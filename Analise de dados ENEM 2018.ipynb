{
 "cells": [
  {
   "cell_type": "markdown",
   "metadata": {},
   "source": [
    "# ANALISE DE DADOS DO ENEM 2018"
   ]
  },
  {
   "cell_type": "code",
   "execution_count": 1,
   "metadata": {},
   "outputs": [],
   "source": [
    "import pandas\n",
    "import matplotlib.pyplot as plt\n",
    "import statsmodels.api as sm\n",
    "import csv\n",
    "import numpy as np"
   ]
  },
  {
   "cell_type": "code",
   "execution_count": 2,
   "metadata": {},
   "outputs": [],
   "source": [
    "colunas = ['NU_INSCRICAO', 'SG_UF_RESIDENCIA', 'IN_GESTANTE',\n",
    "           'NU_IDADE', 'TP_SEXO', 'CO_MUNICIPIO_RESIDENCIA', \n",
    "           'CO_UF_PROVA', 'SG_UF_PROVA', \n",
    "           'NU_NOTA_CN', 'NU_NOTA_CH', 'NU_NOTA_LC', 'NU_NOTA_MT', \n",
    "           'NU_NOTA_REDACAO', 'Q001', 'Q002']"
   ]
  },
  {
   "cell_type": "code",
   "execution_count": 3,
   "metadata": {
    "scrolled": true
   },
   "outputs": [],
   "source": [
    "dados = pandas.read_csv('MICRODADOS_ENEM_2018.csv', sep=';', encoding='ISO-8859-1', usecols=colunas)"
   ]
  },
  {
   "cell_type": "code",
   "execution_count": 4,
   "metadata": {},
   "outputs": [
    {
     "data": {
      "text/html": [
       "<div>\n",
       "<style scoped>\n",
       "    .dataframe tbody tr th:only-of-type {\n",
       "        vertical-align: middle;\n",
       "    }\n",
       "\n",
       "    .dataframe tbody tr th {\n",
       "        vertical-align: top;\n",
       "    }\n",
       "\n",
       "    .dataframe thead th {\n",
       "        text-align: right;\n",
       "    }\n",
       "</style>\n",
       "<table border=\"1\" class=\"dataframe\">\n",
       "  <thead>\n",
       "    <tr style=\"text-align: right;\">\n",
       "      <th></th>\n",
       "      <th>NU_INSCRICAO</th>\n",
       "      <th>CO_MUNICIPIO_RESIDENCIA</th>\n",
       "      <th>SG_UF_RESIDENCIA</th>\n",
       "      <th>NU_IDADE</th>\n",
       "      <th>TP_SEXO</th>\n",
       "      <th>IN_GESTANTE</th>\n",
       "      <th>CO_UF_PROVA</th>\n",
       "      <th>SG_UF_PROVA</th>\n",
       "      <th>NU_NOTA_CN</th>\n",
       "      <th>NU_NOTA_CH</th>\n",
       "      <th>NU_NOTA_LC</th>\n",
       "      <th>NU_NOTA_MT</th>\n",
       "      <th>NU_NOTA_REDACAO</th>\n",
       "      <th>Q001</th>\n",
       "      <th>Q002</th>\n",
       "    </tr>\n",
       "  </thead>\n",
       "  <tbody>\n",
       "    <tr>\n",
       "      <th>0</th>\n",
       "      <td>180008202043</td>\n",
       "      <td>5300108</td>\n",
       "      <td>DF</td>\n",
       "      <td>44.0</td>\n",
       "      <td>M</td>\n",
       "      <td>0</td>\n",
       "      <td>52</td>\n",
       "      <td>GO</td>\n",
       "      <td>NaN</td>\n",
       "      <td>NaN</td>\n",
       "      <td>NaN</td>\n",
       "      <td>NaN</td>\n",
       "      <td>NaN</td>\n",
       "      <td>A</td>\n",
       "      <td>A</td>\n",
       "    </tr>\n",
       "    <tr>\n",
       "      <th>1</th>\n",
       "      <td>180007197856</td>\n",
       "      <td>2111102</td>\n",
       "      <td>MA</td>\n",
       "      <td>23.0</td>\n",
       "      <td>F</td>\n",
       "      <td>0</td>\n",
       "      <td>21</td>\n",
       "      <td>MA</td>\n",
       "      <td>521.0</td>\n",
       "      <td>568.7</td>\n",
       "      <td>513.1</td>\n",
       "      <td>480.3</td>\n",
       "      <td>280.0</td>\n",
       "      <td>B</td>\n",
       "      <td>B</td>\n",
       "    </tr>\n",
       "    <tr>\n",
       "      <th>2</th>\n",
       "      <td>180008517434</td>\n",
       "      <td>3530607</td>\n",
       "      <td>SP</td>\n",
       "      <td>23.0</td>\n",
       "      <td>F</td>\n",
       "      <td>0</td>\n",
       "      <td>43</td>\n",
       "      <td>RS</td>\n",
       "      <td>NaN</td>\n",
       "      <td>NaN</td>\n",
       "      <td>NaN</td>\n",
       "      <td>NaN</td>\n",
       "      <td>NaN</td>\n",
       "      <td>E</td>\n",
       "      <td>E</td>\n",
       "    </tr>\n",
       "    <tr>\n",
       "      <th>3</th>\n",
       "      <td>180007661228</td>\n",
       "      <td>2916401</td>\n",
       "      <td>BA</td>\n",
       "      <td>26.0</td>\n",
       "      <td>F</td>\n",
       "      <td>0</td>\n",
       "      <td>29</td>\n",
       "      <td>BA</td>\n",
       "      <td>NaN</td>\n",
       "      <td>NaN</td>\n",
       "      <td>NaN</td>\n",
       "      <td>NaN</td>\n",
       "      <td>NaN</td>\n",
       "      <td>B</td>\n",
       "      <td>C</td>\n",
       "    </tr>\n",
       "    <tr>\n",
       "      <th>4</th>\n",
       "      <td>180008787987</td>\n",
       "      <td>2918100</td>\n",
       "      <td>BA</td>\n",
       "      <td>20.0</td>\n",
       "      <td>M</td>\n",
       "      <td>0</td>\n",
       "      <td>29</td>\n",
       "      <td>BA</td>\n",
       "      <td>NaN</td>\n",
       "      <td>419.9</td>\n",
       "      <td>345.8</td>\n",
       "      <td>NaN</td>\n",
       "      <td>360.0</td>\n",
       "      <td>C</td>\n",
       "      <td>E</td>\n",
       "    </tr>\n",
       "  </tbody>\n",
       "</table>\n",
       "</div>"
      ],
      "text/plain": [
       "   NU_INSCRICAO  CO_MUNICIPIO_RESIDENCIA SG_UF_RESIDENCIA  NU_IDADE TP_SEXO  \\\n",
       "0  180008202043                  5300108               DF      44.0       M   \n",
       "1  180007197856                  2111102               MA      23.0       F   \n",
       "2  180008517434                  3530607               SP      23.0       F   \n",
       "3  180007661228                  2916401               BA      26.0       F   \n",
       "4  180008787987                  2918100               BA      20.0       M   \n",
       "\n",
       "   IN_GESTANTE  CO_UF_PROVA SG_UF_PROVA  NU_NOTA_CN  NU_NOTA_CH  NU_NOTA_LC  \\\n",
       "0            0           52          GO         NaN         NaN         NaN   \n",
       "1            0           21          MA       521.0       568.7       513.1   \n",
       "2            0           43          RS         NaN         NaN         NaN   \n",
       "3            0           29          BA         NaN         NaN         NaN   \n",
       "4            0           29          BA         NaN       419.9       345.8   \n",
       "\n",
       "   NU_NOTA_MT  NU_NOTA_REDACAO Q001 Q002  \n",
       "0         NaN              NaN    A    A  \n",
       "1       480.3            280.0    B    B  \n",
       "2         NaN              NaN    E    E  \n",
       "3         NaN              NaN    B    C  \n",
       "4         NaN            360.0    C    E  "
      ]
     },
     "execution_count": 4,
     "metadata": {},
     "output_type": "execute_result"
    }
   ],
   "source": [
    "dados.head()"
   ]
  },
  {
   "cell_type": "code",
   "execution_count": 5,
   "metadata": {},
   "outputs": [
    {
     "data": {
      "text/plain": [
       "array(['NU_INSCRICAO', 'CO_MUNICIPIO_RESIDENCIA', 'SG_UF_RESIDENCIA',\n",
       "       'NU_IDADE', 'TP_SEXO', 'IN_GESTANTE', 'CO_UF_PROVA', 'SG_UF_PROVA',\n",
       "       'NU_NOTA_CN', 'NU_NOTA_CH', 'NU_NOTA_LC', 'NU_NOTA_MT',\n",
       "       'NU_NOTA_REDACAO', 'Q001', 'Q002'], dtype=object)"
      ]
     },
     "execution_count": 5,
     "metadata": {},
     "output_type": "execute_result"
    }
   ],
   "source": [
    "dados.columns.values"
   ]
  },
  {
   "cell_type": "code",
   "execution_count": 6,
   "metadata": {},
   "outputs": [],
   "source": [
    "colunasSelecionadasEnen = ['NO_MUNICIPIO_RESIDENCIA', 'CO_UF_RESIDENCIA', 'SG_UF_RESIDENCIA',\n",
    "       'NU_IDADE', 'TP_SEXO', 'TP_ESTADO_CIVIL', 'TP_COR_RACA',\n",
    "       'TP_NACIONALIDADE', 'CO_MUNICIPIO_NASCIMENTO',\n",
    "       'NO_MUNICIPIO_NASCIMENTO', 'CO_UF_NASCIMENTO', 'SG_UF_NASCIMENTO',\n",
    "       'TP_ST_CONCLUSAO', 'TP_ANO_CONCLUIU', 'TP_ESCOLA', 'TP_ENSINO',\n",
    "       'IN_TREINEIRO', 'CO_ESCOLA', 'CO_MUNICIPIO_ESC',\n",
    "       'NO_MUNICIPIO_ESC', 'CO_UF_ESC', 'SG_UF_ESC',\n",
    "       'TP_DEPENDENCIA_ADM_ESC', 'TP_LOCALIZACAO_ESC', 'TP_SIT_FUNC_ESC',\n",
    "       'IN_BAIXA_VISAO', 'IN_CEGUEIRA', 'IN_SURDEZ',\n",
    "       'IN_DEFICIENCIA_AUDITIVA', 'IN_SURDO_CEGUEIRA',\n",
    "       'IN_DEFICIENCIA_FISICA', 'IN_DEFICIENCIA_MENTAL',\n",
    "       'IN_DEFICIT_ATENCAO', 'IN_DISLEXIA', 'IN_DISCALCULIA',\n",
    "       'IN_AUTISMO', 'IN_VISAO_MONOCULAR', 'IN_OUTRA_DEF', 'IN_GESTANTE',\n",
    "       'IN_LACTANTE', 'IN_IDOSO', 'IN_ESTUDA_CLASSE_HOSPITALAR',\n",
    "       'IN_SEM_RECURSO', 'IN_BRAILLE', 'IN_AMPLIADA_24', 'IN_AMPLIADA_18',\n",
    "       'IN_LEDOR', 'IN_ACESSO', 'IN_TRANSCRICAO', 'IN_LIBRAS',\n",
    "       'IN_LEITURA_LABIAL', 'IN_MESA_CADEIRA_RODAS',\n",
    "       'IN_MESA_CADEIRA_SEPARADA', 'IN_APOIO_PERNA', 'IN_GUIA_INTERPRETE',\n",
    "       'IN_COMPUTADOR', 'IN_CADEIRA_ESPECIAL', 'IN_CADEIRA_CANHOTO',\n",
    "       'IN_CADEIRA_ACOLCHOADA', 'IN_PROVA_DEITADO', 'IN_MOBILIARIO_OBESO',\n",
    "       'IN_LAMINA_OVERLAY', 'IN_PROTETOR_AURICULAR', 'IN_MEDIDOR_GLICOSE',\n",
    "       'IN_MAQUINA_BRAILE', 'IN_SOROBAN', 'IN_MARCA_PASSO', 'IN_SONDA',\n",
    "       'IN_MEDICAMENTOS', 'IN_SALA_INDIVIDUAL', 'IN_SALA_ESPECIAL',\n",
    "       'IN_SALA_ACOMPANHANTE', 'IN_MOBILIARIO_ESPECIFICO',\n",
    "       'IN_MATERIAL_ESPECIFICO', 'IN_NOME_SOCIAL', 'CO_MUNICIPIO_PROVA',\n",
    "       'NO_MUNICIPIO_PROVA', 'CO_UF_PROVA', 'SG_UF_PROVA',\n",
    "       'TP_PRESENCA_CN', 'TP_PRESENCA_CH', 'TP_PRESENCA_LC',\n",
    "       'TP_PRESENCA_MT', 'CO_PROVA_CN', 'CO_PROVA_CH', 'CO_PROVA_LC',\n",
    "       'CO_PROVA_MT', 'NU_NOTA_CN', 'NU_NOTA_CH', 'NU_NOTA_LC',\n",
    "       'NU_NOTA_MT', 'TX_RESPOSTAS_CN', 'TX_RESPOSTAS_CH',\n",
    "       'TX_RESPOSTAS_LC', 'TX_RESPOSTAS_MT', 'TP_LINGUA',\n",
    "       'TX_GABARITO_CN', 'TX_GABARITO_CH', 'TX_GABARITO_LC',\n",
    "       'TX_GABARITO_MT', 'TP_STATUS_REDACAO', 'NU_NOTA_COMP1',\n",
    "       'NU_NOTA_COMP2', 'NU_NOTA_COMP3', 'NU_NOTA_COMP4', 'NU_NOTA_COMP5',\n",
    "       'NU_NOTA_REDACAO', 'Q001', 'Q002', 'Q003', 'Q004', 'Q005', 'Q006',\n",
    "       'Q007', 'Q008', 'Q009', 'Q010', 'Q011', 'Q012', 'Q013', 'Q014',\n",
    "       'Q015', 'Q016', 'Q017', 'Q018', 'Q019', 'Q020', 'Q021', 'Q022',\n",
    "       'Q023', 'Q024', 'Q025', 'Q026', 'Q027']"
   ]
  },
  {
   "cell_type": "code",
   "execution_count": 7,
   "metadata": {},
   "outputs": [],
   "source": [
    "dadosSelecionado = dados.filter(items=colunasSelecionadasEnen)"
   ]
  },
  {
   "cell_type": "code",
   "execution_count": 8,
   "metadata": {},
   "outputs": [
    {
     "data": {
      "text/html": [
       "<div>\n",
       "<style scoped>\n",
       "    .dataframe tbody tr th:only-of-type {\n",
       "        vertical-align: middle;\n",
       "    }\n",
       "\n",
       "    .dataframe tbody tr th {\n",
       "        vertical-align: top;\n",
       "    }\n",
       "\n",
       "    .dataframe thead th {\n",
       "        text-align: right;\n",
       "    }\n",
       "</style>\n",
       "<table border=\"1\" class=\"dataframe\">\n",
       "  <thead>\n",
       "    <tr style=\"text-align: right;\">\n",
       "      <th></th>\n",
       "      <th>SG_UF_RESIDENCIA</th>\n",
       "      <th>NU_IDADE</th>\n",
       "      <th>TP_SEXO</th>\n",
       "      <th>IN_GESTANTE</th>\n",
       "      <th>CO_UF_PROVA</th>\n",
       "      <th>SG_UF_PROVA</th>\n",
       "      <th>NU_NOTA_CN</th>\n",
       "      <th>NU_NOTA_CH</th>\n",
       "      <th>NU_NOTA_LC</th>\n",
       "      <th>NU_NOTA_MT</th>\n",
       "      <th>NU_NOTA_REDACAO</th>\n",
       "      <th>Q001</th>\n",
       "      <th>Q002</th>\n",
       "    </tr>\n",
       "  </thead>\n",
       "  <tbody>\n",
       "    <tr>\n",
       "      <th>0</th>\n",
       "      <td>DF</td>\n",
       "      <td>44.0</td>\n",
       "      <td>M</td>\n",
       "      <td>0</td>\n",
       "      <td>52</td>\n",
       "      <td>GO</td>\n",
       "      <td>NaN</td>\n",
       "      <td>NaN</td>\n",
       "      <td>NaN</td>\n",
       "      <td>NaN</td>\n",
       "      <td>NaN</td>\n",
       "      <td>A</td>\n",
       "      <td>A</td>\n",
       "    </tr>\n",
       "    <tr>\n",
       "      <th>1</th>\n",
       "      <td>MA</td>\n",
       "      <td>23.0</td>\n",
       "      <td>F</td>\n",
       "      <td>0</td>\n",
       "      <td>21</td>\n",
       "      <td>MA</td>\n",
       "      <td>521.0</td>\n",
       "      <td>568.7</td>\n",
       "      <td>513.1</td>\n",
       "      <td>480.3</td>\n",
       "      <td>280.0</td>\n",
       "      <td>B</td>\n",
       "      <td>B</td>\n",
       "    </tr>\n",
       "    <tr>\n",
       "      <th>2</th>\n",
       "      <td>SP</td>\n",
       "      <td>23.0</td>\n",
       "      <td>F</td>\n",
       "      <td>0</td>\n",
       "      <td>43</td>\n",
       "      <td>RS</td>\n",
       "      <td>NaN</td>\n",
       "      <td>NaN</td>\n",
       "      <td>NaN</td>\n",
       "      <td>NaN</td>\n",
       "      <td>NaN</td>\n",
       "      <td>E</td>\n",
       "      <td>E</td>\n",
       "    </tr>\n",
       "    <tr>\n",
       "      <th>3</th>\n",
       "      <td>BA</td>\n",
       "      <td>26.0</td>\n",
       "      <td>F</td>\n",
       "      <td>0</td>\n",
       "      <td>29</td>\n",
       "      <td>BA</td>\n",
       "      <td>NaN</td>\n",
       "      <td>NaN</td>\n",
       "      <td>NaN</td>\n",
       "      <td>NaN</td>\n",
       "      <td>NaN</td>\n",
       "      <td>B</td>\n",
       "      <td>C</td>\n",
       "    </tr>\n",
       "    <tr>\n",
       "      <th>4</th>\n",
       "      <td>BA</td>\n",
       "      <td>20.0</td>\n",
       "      <td>M</td>\n",
       "      <td>0</td>\n",
       "      <td>29</td>\n",
       "      <td>BA</td>\n",
       "      <td>NaN</td>\n",
       "      <td>419.9</td>\n",
       "      <td>345.8</td>\n",
       "      <td>NaN</td>\n",
       "      <td>360.0</td>\n",
       "      <td>C</td>\n",
       "      <td>E</td>\n",
       "    </tr>\n",
       "  </tbody>\n",
       "</table>\n",
       "</div>"
      ],
      "text/plain": [
       "  SG_UF_RESIDENCIA  NU_IDADE TP_SEXO  IN_GESTANTE  CO_UF_PROVA SG_UF_PROVA  \\\n",
       "0               DF      44.0       M            0           52          GO   \n",
       "1               MA      23.0       F            0           21          MA   \n",
       "2               SP      23.0       F            0           43          RS   \n",
       "3               BA      26.0       F            0           29          BA   \n",
       "4               BA      20.0       M            0           29          BA   \n",
       "\n",
       "   NU_NOTA_CN  NU_NOTA_CH  NU_NOTA_LC  NU_NOTA_MT  NU_NOTA_REDACAO Q001 Q002  \n",
       "0         NaN         NaN         NaN         NaN              NaN    A    A  \n",
       "1       521.0       568.7       513.1       480.3            280.0    B    B  \n",
       "2         NaN         NaN         NaN         NaN              NaN    E    E  \n",
       "3         NaN         NaN         NaN         NaN              NaN    B    C  \n",
       "4         NaN       419.9       345.8         NaN            360.0    C    E  "
      ]
     },
     "execution_count": 8,
     "metadata": {},
     "output_type": "execute_result"
    }
   ],
   "source": [
    "dadosSelecionado.head()"
   ]
  },
  {
   "cell_type": "code",
   "execution_count": 9,
   "metadata": {},
   "outputs": [
    {
     "data": {
      "text/html": [
       "<div>\n",
       "<style scoped>\n",
       "    .dataframe tbody tr th:only-of-type {\n",
       "        vertical-align: middle;\n",
       "    }\n",
       "\n",
       "    .dataframe tbody tr th {\n",
       "        vertical-align: top;\n",
       "    }\n",
       "\n",
       "    .dataframe thead th {\n",
       "        text-align: right;\n",
       "    }\n",
       "</style>\n",
       "<table border=\"1\" class=\"dataframe\">\n",
       "  <thead>\n",
       "    <tr style=\"text-align: right;\">\n",
       "      <th></th>\n",
       "      <th>NU_INSCRICAO</th>\n",
       "      <th>CO_MUNICIPIO_RESIDENCIA</th>\n",
       "      <th>SG_UF_RESIDENCIA</th>\n",
       "      <th>NU_IDADE</th>\n",
       "      <th>TP_SEXO</th>\n",
       "      <th>IN_GESTANTE</th>\n",
       "      <th>CO_UF_PROVA</th>\n",
       "      <th>SG_UF_PROVA</th>\n",
       "      <th>NU_NOTA_CN</th>\n",
       "      <th>NU_NOTA_CH</th>\n",
       "      <th>NU_NOTA_LC</th>\n",
       "      <th>NU_NOTA_MT</th>\n",
       "      <th>NU_NOTA_REDACAO</th>\n",
       "      <th>Q001</th>\n",
       "      <th>Q002</th>\n",
       "    </tr>\n",
       "  </thead>\n",
       "  <tbody>\n",
       "    <tr>\n",
       "      <th>0</th>\n",
       "      <td>180008202043</td>\n",
       "      <td>5300108</td>\n",
       "      <td>DF</td>\n",
       "      <td>44.0</td>\n",
       "      <td>M</td>\n",
       "      <td>0</td>\n",
       "      <td>52</td>\n",
       "      <td>GO</td>\n",
       "      <td>NaN</td>\n",
       "      <td>NaN</td>\n",
       "      <td>NaN</td>\n",
       "      <td>NaN</td>\n",
       "      <td>NaN</td>\n",
       "      <td>A</td>\n",
       "      <td>A</td>\n",
       "    </tr>\n",
       "    <tr>\n",
       "      <th>1</th>\n",
       "      <td>180007197856</td>\n",
       "      <td>2111102</td>\n",
       "      <td>MA</td>\n",
       "      <td>23.0</td>\n",
       "      <td>F</td>\n",
       "      <td>0</td>\n",
       "      <td>21</td>\n",
       "      <td>MA</td>\n",
       "      <td>521.0</td>\n",
       "      <td>568.7</td>\n",
       "      <td>513.1</td>\n",
       "      <td>480.3</td>\n",
       "      <td>280.0</td>\n",
       "      <td>B</td>\n",
       "      <td>B</td>\n",
       "    </tr>\n",
       "    <tr>\n",
       "      <th>2</th>\n",
       "      <td>180008517434</td>\n",
       "      <td>3530607</td>\n",
       "      <td>SP</td>\n",
       "      <td>23.0</td>\n",
       "      <td>F</td>\n",
       "      <td>0</td>\n",
       "      <td>43</td>\n",
       "      <td>RS</td>\n",
       "      <td>NaN</td>\n",
       "      <td>NaN</td>\n",
       "      <td>NaN</td>\n",
       "      <td>NaN</td>\n",
       "      <td>NaN</td>\n",
       "      <td>E</td>\n",
       "      <td>E</td>\n",
       "    </tr>\n",
       "    <tr>\n",
       "      <th>3</th>\n",
       "      <td>180007661228</td>\n",
       "      <td>2916401</td>\n",
       "      <td>BA</td>\n",
       "      <td>26.0</td>\n",
       "      <td>F</td>\n",
       "      <td>0</td>\n",
       "      <td>29</td>\n",
       "      <td>BA</td>\n",
       "      <td>NaN</td>\n",
       "      <td>NaN</td>\n",
       "      <td>NaN</td>\n",
       "      <td>NaN</td>\n",
       "      <td>NaN</td>\n",
       "      <td>B</td>\n",
       "      <td>C</td>\n",
       "    </tr>\n",
       "    <tr>\n",
       "      <th>4</th>\n",
       "      <td>180008787987</td>\n",
       "      <td>2918100</td>\n",
       "      <td>BA</td>\n",
       "      <td>20.0</td>\n",
       "      <td>M</td>\n",
       "      <td>0</td>\n",
       "      <td>29</td>\n",
       "      <td>BA</td>\n",
       "      <td>NaN</td>\n",
       "      <td>419.9</td>\n",
       "      <td>345.8</td>\n",
       "      <td>NaN</td>\n",
       "      <td>360.0</td>\n",
       "      <td>C</td>\n",
       "      <td>E</td>\n",
       "    </tr>\n",
       "    <tr>\n",
       "      <th>5</th>\n",
       "      <td>180007239581</td>\n",
       "      <td>2507507</td>\n",
       "      <td>PB</td>\n",
       "      <td>23.0</td>\n",
       "      <td>F</td>\n",
       "      <td>0</td>\n",
       "      <td>25</td>\n",
       "      <td>PB</td>\n",
       "      <td>461.8</td>\n",
       "      <td>564.0</td>\n",
       "      <td>466.8</td>\n",
       "      <td>538.8</td>\n",
       "      <td>580.0</td>\n",
       "      <td>C</td>\n",
       "      <td>D</td>\n",
       "    </tr>\n",
       "    <tr>\n",
       "      <th>6</th>\n",
       "      <td>180007198225</td>\n",
       "      <td>3171709</td>\n",
       "      <td>MG</td>\n",
       "      <td>35.0</td>\n",
       "      <td>F</td>\n",
       "      <td>0</td>\n",
       "      <td>31</td>\n",
       "      <td>MG</td>\n",
       "      <td>NaN</td>\n",
       "      <td>NaN</td>\n",
       "      <td>NaN</td>\n",
       "      <td>NaN</td>\n",
       "      <td>NaN</td>\n",
       "      <td>B</td>\n",
       "      <td>B</td>\n",
       "    </tr>\n",
       "    <tr>\n",
       "      <th>7</th>\n",
       "      <td>180008090447</td>\n",
       "      <td>2207702</td>\n",
       "      <td>PI</td>\n",
       "      <td>39.0</td>\n",
       "      <td>M</td>\n",
       "      <td>0</td>\n",
       "      <td>22</td>\n",
       "      <td>PI</td>\n",
       "      <td>499.3</td>\n",
       "      <td>663.2</td>\n",
       "      <td>605.2</td>\n",
       "      <td>733.8</td>\n",
       "      <td>680.0</td>\n",
       "      <td>A</td>\n",
       "      <td>E</td>\n",
       "    </tr>\n",
       "    <tr>\n",
       "      <th>8</th>\n",
       "      <td>180008257068</td>\n",
       "      <td>2304400</td>\n",
       "      <td>CE</td>\n",
       "      <td>19.0</td>\n",
       "      <td>M</td>\n",
       "      <td>0</td>\n",
       "      <td>23</td>\n",
       "      <td>CE</td>\n",
       "      <td>411.8</td>\n",
       "      <td>429.8</td>\n",
       "      <td>445.2</td>\n",
       "      <td>459.0</td>\n",
       "      <td>340.0</td>\n",
       "      <td>D</td>\n",
       "      <td>D</td>\n",
       "    </tr>\n",
       "    <tr>\n",
       "      <th>9</th>\n",
       "      <td>180008202044</td>\n",
       "      <td>5103403</td>\n",
       "      <td>MT</td>\n",
       "      <td>25.0</td>\n",
       "      <td>F</td>\n",
       "      <td>0</td>\n",
       "      <td>51</td>\n",
       "      <td>MT</td>\n",
       "      <td>469.4</td>\n",
       "      <td>650.2</td>\n",
       "      <td>606.6</td>\n",
       "      <td>525.4</td>\n",
       "      <td>740.0</td>\n",
       "      <td>C</td>\n",
       "      <td>C</td>\n",
       "    </tr>\n",
       "    <tr>\n",
       "      <th>10</th>\n",
       "      <td>180008411102</td>\n",
       "      <td>2403608</td>\n",
       "      <td>RN</td>\n",
       "      <td>38.0</td>\n",
       "      <td>F</td>\n",
       "      <td>0</td>\n",
       "      <td>24</td>\n",
       "      <td>RN</td>\n",
       "      <td>NaN</td>\n",
       "      <td>NaN</td>\n",
       "      <td>NaN</td>\n",
       "      <td>NaN</td>\n",
       "      <td>NaN</td>\n",
       "      <td>E</td>\n",
       "      <td>E</td>\n",
       "    </tr>\n",
       "    <tr>\n",
       "      <th>11</th>\n",
       "      <td>180007286705</td>\n",
       "      <td>2308609</td>\n",
       "      <td>CE</td>\n",
       "      <td>17.0</td>\n",
       "      <td>F</td>\n",
       "      <td>0</td>\n",
       "      <td>23</td>\n",
       "      <td>CE</td>\n",
       "      <td>NaN</td>\n",
       "      <td>618.7</td>\n",
       "      <td>588.2</td>\n",
       "      <td>NaN</td>\n",
       "      <td>640.0</td>\n",
       "      <td>D</td>\n",
       "      <td>E</td>\n",
       "    </tr>\n",
       "    <tr>\n",
       "      <th>12</th>\n",
       "      <td>180008948206</td>\n",
       "      <td>1709500</td>\n",
       "      <td>TO</td>\n",
       "      <td>18.0</td>\n",
       "      <td>F</td>\n",
       "      <td>0</td>\n",
       "      <td>17</td>\n",
       "      <td>TO</td>\n",
       "      <td>467.4</td>\n",
       "      <td>640.5</td>\n",
       "      <td>516.7</td>\n",
       "      <td>642.3</td>\n",
       "      <td>640.0</td>\n",
       "      <td>E</td>\n",
       "      <td>E</td>\n",
       "    </tr>\n",
       "    <tr>\n",
       "      <th>13</th>\n",
       "      <td>180008787988</td>\n",
       "      <td>3550308</td>\n",
       "      <td>SP</td>\n",
       "      <td>23.0</td>\n",
       "      <td>M</td>\n",
       "      <td>0</td>\n",
       "      <td>35</td>\n",
       "      <td>SP</td>\n",
       "      <td>625.5</td>\n",
       "      <td>652.2</td>\n",
       "      <td>616.3</td>\n",
       "      <td>622.0</td>\n",
       "      <td>840.0</td>\n",
       "      <td>E</td>\n",
       "      <td>E</td>\n",
       "    </tr>\n",
       "    <tr>\n",
       "      <th>14</th>\n",
       "      <td>180008417244</td>\n",
       "      <td>3170800</td>\n",
       "      <td>MG</td>\n",
       "      <td>19.0</td>\n",
       "      <td>M</td>\n",
       "      <td>0</td>\n",
       "      <td>31</td>\n",
       "      <td>MG</td>\n",
       "      <td>NaN</td>\n",
       "      <td>NaN</td>\n",
       "      <td>NaN</td>\n",
       "      <td>NaN</td>\n",
       "      <td>NaN</td>\n",
       "      <td>B</td>\n",
       "      <td>B</td>\n",
       "    </tr>\n",
       "    <tr>\n",
       "      <th>15</th>\n",
       "      <td>180008411473</td>\n",
       "      <td>3510609</td>\n",
       "      <td>SP</td>\n",
       "      <td>21.0</td>\n",
       "      <td>F</td>\n",
       "      <td>0</td>\n",
       "      <td>35</td>\n",
       "      <td>SP</td>\n",
       "      <td>NaN</td>\n",
       "      <td>NaN</td>\n",
       "      <td>NaN</td>\n",
       "      <td>NaN</td>\n",
       "      <td>NaN</td>\n",
       "      <td>D</td>\n",
       "      <td>E</td>\n",
       "    </tr>\n",
       "    <tr>\n",
       "      <th>16</th>\n",
       "      <td>180007766857</td>\n",
       "      <td>2302602</td>\n",
       "      <td>CE</td>\n",
       "      <td>18.0</td>\n",
       "      <td>M</td>\n",
       "      <td>0</td>\n",
       "      <td>23</td>\n",
       "      <td>CE</td>\n",
       "      <td>478.5</td>\n",
       "      <td>513.3</td>\n",
       "      <td>564.7</td>\n",
       "      <td>514.9</td>\n",
       "      <td>580.0</td>\n",
       "      <td>C</td>\n",
       "      <td>C</td>\n",
       "    </tr>\n",
       "    <tr>\n",
       "      <th>17</th>\n",
       "      <td>180009379462</td>\n",
       "      <td>3133808</td>\n",
       "      <td>MG</td>\n",
       "      <td>21.0</td>\n",
       "      <td>F</td>\n",
       "      <td>0</td>\n",
       "      <td>31</td>\n",
       "      <td>MG</td>\n",
       "      <td>521.8</td>\n",
       "      <td>598.9</td>\n",
       "      <td>584.6</td>\n",
       "      <td>530.4</td>\n",
       "      <td>580.0</td>\n",
       "      <td>C</td>\n",
       "      <td>C</td>\n",
       "    </tr>\n",
       "    <tr>\n",
       "      <th>18</th>\n",
       "      <td>180008257069</td>\n",
       "      <td>5300108</td>\n",
       "      <td>DF</td>\n",
       "      <td>20.0</td>\n",
       "      <td>M</td>\n",
       "      <td>0</td>\n",
       "      <td>53</td>\n",
       "      <td>DF</td>\n",
       "      <td>397.7</td>\n",
       "      <td>612.0</td>\n",
       "      <td>455.0</td>\n",
       "      <td>503.3</td>\n",
       "      <td>360.0</td>\n",
       "      <td>E</td>\n",
       "      <td>E</td>\n",
       "    </tr>\n",
       "    <tr>\n",
       "      <th>19</th>\n",
       "      <td>180008202045</td>\n",
       "      <td>3550308</td>\n",
       "      <td>SP</td>\n",
       "      <td>27.0</td>\n",
       "      <td>F</td>\n",
       "      <td>0</td>\n",
       "      <td>35</td>\n",
       "      <td>SP</td>\n",
       "      <td>501.5</td>\n",
       "      <td>540.6</td>\n",
       "      <td>531.5</td>\n",
       "      <td>595.3</td>\n",
       "      <td>380.0</td>\n",
       "      <td>E</td>\n",
       "      <td>C</td>\n",
       "    </tr>\n",
       "  </tbody>\n",
       "</table>\n",
       "</div>"
      ],
      "text/plain": [
       "    NU_INSCRICAO  CO_MUNICIPIO_RESIDENCIA SG_UF_RESIDENCIA  NU_IDADE TP_SEXO  \\\n",
       "0   180008202043                  5300108               DF      44.0       M   \n",
       "1   180007197856                  2111102               MA      23.0       F   \n",
       "2   180008517434                  3530607               SP      23.0       F   \n",
       "3   180007661228                  2916401               BA      26.0       F   \n",
       "4   180008787987                  2918100               BA      20.0       M   \n",
       "5   180007239581                  2507507               PB      23.0       F   \n",
       "6   180007198225                  3171709               MG      35.0       F   \n",
       "7   180008090447                  2207702               PI      39.0       M   \n",
       "8   180008257068                  2304400               CE      19.0       M   \n",
       "9   180008202044                  5103403               MT      25.0       F   \n",
       "10  180008411102                  2403608               RN      38.0       F   \n",
       "11  180007286705                  2308609               CE      17.0       F   \n",
       "12  180008948206                  1709500               TO      18.0       F   \n",
       "13  180008787988                  3550308               SP      23.0       M   \n",
       "14  180008417244                  3170800               MG      19.0       M   \n",
       "15  180008411473                  3510609               SP      21.0       F   \n",
       "16  180007766857                  2302602               CE      18.0       M   \n",
       "17  180009379462                  3133808               MG      21.0       F   \n",
       "18  180008257069                  5300108               DF      20.0       M   \n",
       "19  180008202045                  3550308               SP      27.0       F   \n",
       "\n",
       "    IN_GESTANTE  CO_UF_PROVA SG_UF_PROVA  NU_NOTA_CN  NU_NOTA_CH  NU_NOTA_LC  \\\n",
       "0             0           52          GO         NaN         NaN         NaN   \n",
       "1             0           21          MA       521.0       568.7       513.1   \n",
       "2             0           43          RS         NaN         NaN         NaN   \n",
       "3             0           29          BA         NaN         NaN         NaN   \n",
       "4             0           29          BA         NaN       419.9       345.8   \n",
       "5             0           25          PB       461.8       564.0       466.8   \n",
       "6             0           31          MG         NaN         NaN         NaN   \n",
       "7             0           22          PI       499.3       663.2       605.2   \n",
       "8             0           23          CE       411.8       429.8       445.2   \n",
       "9             0           51          MT       469.4       650.2       606.6   \n",
       "10            0           24          RN         NaN         NaN         NaN   \n",
       "11            0           23          CE         NaN       618.7       588.2   \n",
       "12            0           17          TO       467.4       640.5       516.7   \n",
       "13            0           35          SP       625.5       652.2       616.3   \n",
       "14            0           31          MG         NaN         NaN         NaN   \n",
       "15            0           35          SP         NaN         NaN         NaN   \n",
       "16            0           23          CE       478.5       513.3       564.7   \n",
       "17            0           31          MG       521.8       598.9       584.6   \n",
       "18            0           53          DF       397.7       612.0       455.0   \n",
       "19            0           35          SP       501.5       540.6       531.5   \n",
       "\n",
       "    NU_NOTA_MT  NU_NOTA_REDACAO Q001 Q002  \n",
       "0          NaN              NaN    A    A  \n",
       "1        480.3            280.0    B    B  \n",
       "2          NaN              NaN    E    E  \n",
       "3          NaN              NaN    B    C  \n",
       "4          NaN            360.0    C    E  \n",
       "5        538.8            580.0    C    D  \n",
       "6          NaN              NaN    B    B  \n",
       "7        733.8            680.0    A    E  \n",
       "8        459.0            340.0    D    D  \n",
       "9        525.4            740.0    C    C  \n",
       "10         NaN              NaN    E    E  \n",
       "11         NaN            640.0    D    E  \n",
       "12       642.3            640.0    E    E  \n",
       "13       622.0            840.0    E    E  \n",
       "14         NaN              NaN    B    B  \n",
       "15         NaN              NaN    D    E  \n",
       "16       514.9            580.0    C    C  \n",
       "17       530.4            580.0    C    C  \n",
       "18       503.3            360.0    E    E  \n",
       "19       595.3            380.0    E    C  "
      ]
     },
     "execution_count": 9,
     "metadata": {},
     "output_type": "execute_result"
    }
   ],
   "source": [
    "dados[0:20]"
   ]
  },
  {
   "cell_type": "code",
   "execution_count": 10,
   "metadata": {},
   "outputs": [],
   "source": [
    "coluna_tp_sexo = dadosSelecionado ['TP_SEXO']"
   ]
  },
  {
   "cell_type": "code",
   "execution_count": 11,
   "metadata": {},
   "outputs": [
    {
     "data": {
      "text/plain": [
       "0          M\n",
       "1          F\n",
       "2          F\n",
       "3          F\n",
       "4          M\n",
       "          ..\n",
       "5513742    F\n",
       "5513743    F\n",
       "5513744    F\n",
       "5513745    F\n",
       "5513746    M\n",
       "Name: TP_SEXO, Length: 5513747, dtype: object"
      ]
     },
     "execution_count": 11,
     "metadata": {},
     "output_type": "execute_result"
    }
   ],
   "source": [
    "coluna_tp_sexo"
   ]
  },
  {
   "cell_type": "code",
   "execution_count": 12,
   "metadata": {},
   "outputs": [
    {
     "data": {
      "text/plain": [
       "F    3257703\n",
       "M    2256044\n",
       "Name: TP_SEXO, dtype: int64"
      ]
     },
     "execution_count": 12,
     "metadata": {},
     "output_type": "execute_result"
    }
   ],
   "source": [
    "coluna_tp_sexo.value_counts().sort_index()"
   ]
  },
  {
   "cell_type": "code",
   "execution_count": 13,
   "metadata": {},
   "outputs": [
    {
     "data": {
      "text/plain": [
       "<matplotlib.axes._subplots.AxesSubplot at 0x201e2da7208>"
      ]
     },
     "execution_count": 13,
     "metadata": {},
     "output_type": "execute_result"
    },
    {
     "data": {
      "image/png": "[encoded data removed]",
      "text/plain": [
       "<Figure size 432x288 with 1 Axes>"
      ]
     },
     "metadata": {
      "needs_background": "light"
     },
     "output_type": "display_data"
    }
   ],
   "source": [
    "coluna_tp_sexo.hist(bins=4)"
   ]
  },
  {
   "cell_type": "code",
   "execution_count": 14,
   "metadata": {},
   "outputs": [],
   "source": [
    "coluna_nu_idade = dadosSelecionado ['NU_IDADE']"
   ]
  },
  {
   "cell_type": "code",
   "execution_count": 15,
   "metadata": {},
   "outputs": [
    {
     "data": {
      "text/plain": [
       "0          44.0\n",
       "1          23.0\n",
       "2          23.0\n",
       "3          26.0\n",
       "4          20.0\n",
       "           ... \n",
       "5513742    56.0\n",
       "5513743    20.0\n",
       "5513744    17.0\n",
       "5513745    17.0\n",
       "5513746    21.0\n",
       "Name: NU_IDADE, Length: 5513747, dtype: float64"
      ]
     },
     "execution_count": 15,
     "metadata": {},
     "output_type": "execute_result"
    }
   ],
   "source": [
    "coluna_nu_idade"
   ]
  },
  {
   "cell_type": "code",
   "execution_count": 16,
   "metadata": {},
   "outputs": [
    {
     "data": {
      "text/plain": [
       "0    44.0\n",
       "1    23.0\n",
       "2    23.0\n",
       "3    26.0\n",
       "4    20.0\n",
       "Name: NU_IDADE, dtype: float64"
      ]
     },
     "execution_count": 16,
     "metadata": {},
     "output_type": "execute_result"
    }
   ],
   "source": [
    "coluna_nu_idade.head()"
   ]
  },
  {
   "cell_type": "code",
   "execution_count": 17,
   "metadata": {},
   "outputs": [
    {
     "data": {
      "text/plain": [
       "10.0       6\n",
       "11.0      11\n",
       "12.0      40\n",
       "13.0     272\n",
       "14.0    5625\n",
       "        ... \n",
       "87.0       2\n",
       "88.0       1\n",
       "89.0       1\n",
       "90.0       1\n",
       "98.0       1\n",
       "Name: NU_IDADE, Length: 82, dtype: int64"
      ]
     },
     "execution_count": 17,
     "metadata": {},
     "output_type": "execute_result"
    }
   ],
   "source": [
    "coluna_nu_idade.value_counts().sort_index()"
   ]
  },
  {
   "cell_type": "code",
   "execution_count": 18,
   "metadata": {},
   "outputs": [
    {
     "data": {
      "text/plain": [
       "<matplotlib.axes._subplots.AxesSubplot at 0x201e2daf488>"
      ]
     },
     "execution_count": 18,
     "metadata": {},
     "output_type": "execute_result"
    },
    {
     "data": {
      "image/png": "[encoded data removed]",
      "text/plain": [
       "<Figure size 432x288 with 1 Axes>"
      ]
     },
     "metadata": {
      "needs_background": "light"
     },
     "output_type": "display_data"
    }
   ],
   "source": [
    "coluna_nu_idade.hist(bins=80)"
   ]
  },
  {
   "cell_type": "code",
   "execution_count": 19,
   "metadata": {},
   "outputs": [],
   "source": [
    "coluna_sg_uf_residencia = dadosSelecionado ['SG_UF_RESIDENCIA']"
   ]
  },
  {
   "cell_type": "code",
   "execution_count": 20,
   "metadata": {},
   "outputs": [
    {
     "data": {
      "text/plain": [
       "0          DF\n",
       "1          MA\n",
       "2          SP\n",
       "3          BA\n",
       "4          BA\n",
       "           ..\n",
       "5513742    RJ\n",
       "5513743    AM\n",
       "5513744    SP\n",
       "5513745    SP\n",
       "5513746    MG\n",
       "Name: SG_UF_RESIDENCIA, Length: 5513747, dtype: object"
      ]
     },
     "execution_count": 20,
     "metadata": {},
     "output_type": "execute_result"
    }
   ],
   "source": [
    "coluna_sg_uf_residencia"
   ]
  },
  {
   "cell_type": "code",
   "execution_count": 21,
   "metadata": {},
   "outputs": [
    {
     "data": {
      "text/plain": [
       "SP    934174\n",
       "MG    587471\n",
       "BA    401328\n",
       "RJ    382078\n",
       "CE    329406\n",
       "PE    304302\n",
       "PA    283861\n",
       "RS    243555\n",
       "PR    236533\n",
       "MA    218462\n",
       "GO    191029\n",
       "PB    152049\n",
       "RN    124039\n",
       "SC    123933\n",
       "AM    123755\n",
       "PI    118350\n",
       "ES    112173\n",
       "DF    104531\n",
       "MT     96762\n",
       "AL     89670\n",
       "SE     74633\n",
       "MS     72319\n",
       "RO     62266\n",
       "TO     55145\n",
       "AP     40109\n",
       "AC     37785\n",
       "RR     14029\n",
       "Name: SG_UF_RESIDENCIA, dtype: int64"
      ]
     },
     "execution_count": 21,
     "metadata": {},
     "output_type": "execute_result"
    }
   ],
   "source": [
    "coluna_sg_uf_residencia.value_counts()"
   ]
  },
  {
   "cell_type": "code",
   "execution_count": 22,
   "metadata": {},
   "outputs": [
    {
     "data": {
      "text/plain": [
       "<matplotlib.axes._subplots.AxesSubplot at 0x201e380d608>"
      ]
     },
     "execution_count": 22,
     "metadata": {},
     "output_type": "execute_result"
    },
    {
     "data": {
      "image/png": "[encoded data removed]",
      "text/plain": [
       "<Figure size 432x288 with 1 Axes>"
      ]
     },
     "metadata": {
      "needs_background": "light"
     },
     "output_type": "display_data"
    }
   ],
   "source": [
    "coluna_sg_uf_residencia.hist(bins=40)"
   ]
  },
  {
   "cell_type": "code",
   "execution_count": 23,
   "metadata": {},
   "outputs": [],
   "source": [
    "coluna_in_gestante = dadosSelecionado ['IN_GESTANTE']"
   ]
  },
  {
   "cell_type": "code",
   "execution_count": 24,
   "metadata": {},
   "outputs": [
    {
     "data": {
      "text/plain": [
       "0    5511967\n",
       "1       1780\n",
       "Name: IN_GESTANTE, dtype: int64"
      ]
     },
     "execution_count": 24,
     "metadata": {},
     "output_type": "execute_result"
    }
   ],
   "source": [
    "coluna_in_gestante.value_counts()"
   ]
  },
  {
   "cell_type": "code",
   "execution_count": 25,
   "metadata": {},
   "outputs": [],
   "source": [
    "distInGestante = coluna_in_gestante.value_counts()"
   ]
  },
  {
   "cell_type": "code",
   "execution_count": 26,
   "metadata": {},
   "outputs": [],
   "source": [
    "porcentInGestante = [100*x/distInGestante.sum() for x in distInGestante]"
   ]
  },
  {
   "cell_type": "code",
   "execution_count": 27,
   "metadata": {},
   "outputs": [
    {
     "data": {
      "text/plain": [
       "[99.967717053394, 0.032282946606001325]"
      ]
     },
     "execution_count": 27,
     "metadata": {},
     "output_type": "execute_result"
    }
   ],
   "source": [
    "porcentInGestante"
   ]
  },
  {
   "cell_type": "code",
   "execution_count": 28,
   "metadata": {},
   "outputs": [
    {
     "data": {
      "text/plain": [
       "<matplotlib.axes._subplots.AxesSubplot at 0x201e391c188>"
      ]
     },
     "execution_count": 28,
     "metadata": {},
     "output_type": "execute_result"
    },
    {
     "data": {
      "image/png": "[encoded data removed]",
      "text/plain": [
       "<Figure size 432x288 with 1 Axes>"
      ]
     },
     "metadata": {
      "needs_background": "light"
     },
     "output_type": "display_data"
    }
   ],
   "source": [
    "coluna_in_gestante.hist(bins=20)"
   ]
  },
  {
   "cell_type": "code",
   "execution_count": 29,
   "metadata": {},
   "outputs": [],
   "source": [
    "coluna_tp_sexo = dadosSelecionado ['TP_SEXO']"
   ]
  },
  {
   "cell_type": "code",
   "execution_count": 30,
   "metadata": {},
   "outputs": [],
   "source": [
    "distTpSexo = coluna_tp_sexo.value_counts()"
   ]
  },
  {
   "cell_type": "code",
   "execution_count": 31,
   "metadata": {},
   "outputs": [
    {
     "data": {
      "text/plain": [
       "F    3257703\n",
       "M    2256044\n",
       "Name: TP_SEXO, dtype: int64"
      ]
     },
     "execution_count": 31,
     "metadata": {},
     "output_type": "execute_result"
    }
   ],
   "source": [
    "distTpSexo"
   ]
  },
  {
   "cell_type": "code",
   "execution_count": 32,
   "metadata": {},
   "outputs": [],
   "source": [
    "porcenTpSexo = [100*x/distTpSexo.sum() for x in distTpSexo]"
   ]
  },
  {
   "cell_type": "code",
   "execution_count": 33,
   "metadata": {},
   "outputs": [
    {
     "data": {
      "text/plain": [
       "[59.08328764450019, 40.91671235549981]"
      ]
     },
     "execution_count": 33,
     "metadata": {},
     "output_type": "execute_result"
    }
   ],
   "source": [
    "porcenTpSexo"
   ]
  },
  {
   "cell_type": "code",
   "execution_count": 34,
   "metadata": {},
   "outputs": [],
   "source": [
    "sexoFeminino = distTpSexo[0]"
   ]
  },
  {
   "cell_type": "code",
   "execution_count": 35,
   "metadata": {},
   "outputs": [],
   "source": [
    "nu_gestante = distInGestante[1]"
   ]
  },
  {
   "cell_type": "code",
   "execution_count": 36,
   "metadata": {},
   "outputs": [
    {
     "data": {
      "text/plain": [
       "3257703"
      ]
     },
     "execution_count": 36,
     "metadata": {},
     "output_type": "execute_result"
    }
   ],
   "source": [
    "sexoFeminino"
   ]
  },
  {
   "cell_type": "code",
   "execution_count": 37,
   "metadata": {},
   "outputs": [
    {
     "data": {
      "text/plain": [
       "1780"
      ]
     },
     "execution_count": 37,
     "metadata": {},
     "output_type": "execute_result"
    }
   ],
   "source": [
    "nu_gestante"
   ]
  },
  {
   "cell_type": "code",
   "execution_count": 38,
   "metadata": {},
   "outputs": [],
   "source": [
    "porcentGestante = [100*nu_gestante/sexoFeminino]"
   ]
  },
  {
   "cell_type": "code",
   "execution_count": 39,
   "metadata": {},
   "outputs": [
    {
     "data": {
      "text/plain": [
       "[0.054639726211996614]"
      ]
     },
     "execution_count": 39,
     "metadata": {},
     "output_type": "execute_result"
    }
   ],
   "source": [
    "porcentGestante"
   ]
  },
  {
   "cell_type": "code",
   "execution_count": 40,
   "metadata": {},
   "outputs": [],
   "source": [
    "dadosSelecionado = ['TP_SEXO', 'NU_NOTA_MT']"
   ]
  },
  {
   "cell_type": "code",
   "execution_count": 41,
   "metadata": {},
   "outputs": [],
   "source": [
    "dadosSexoRedacao = dados.filter(items=dadosSelecionado)"
   ]
  },
  {
   "cell_type": "code",
   "execution_count": 42,
   "metadata": {},
   "outputs": [
    {
     "data": {
      "text/html": [
       "<div>\n",
       "<style scoped>\n",
       "    .dataframe tbody tr th:only-of-type {\n",
       "        vertical-align: middle;\n",
       "    }\n",
       "\n",
       "    .dataframe tbody tr th {\n",
       "        vertical-align: top;\n",
       "    }\n",
       "\n",
       "    .dataframe thead th {\n",
       "        text-align: right;\n",
       "    }\n",
       "</style>\n",
       "<table border=\"1\" class=\"dataframe\">\n",
       "  <thead>\n",
       "    <tr style=\"text-align: right;\">\n",
       "      <th></th>\n",
       "      <th>TP_SEXO</th>\n",
       "      <th>NU_NOTA_MT</th>\n",
       "    </tr>\n",
       "  </thead>\n",
       "  <tbody>\n",
       "    <tr>\n",
       "      <th>0</th>\n",
       "      <td>M</td>\n",
       "      <td>NaN</td>\n",
       "    </tr>\n",
       "    <tr>\n",
       "      <th>1</th>\n",
       "      <td>F</td>\n",
       "      <td>480.3</td>\n",
       "    </tr>\n",
       "    <tr>\n",
       "      <th>2</th>\n",
       "      <td>F</td>\n",
       "      <td>NaN</td>\n",
       "    </tr>\n",
       "    <tr>\n",
       "      <th>3</th>\n",
       "      <td>F</td>\n",
       "      <td>NaN</td>\n",
       "    </tr>\n",
       "    <tr>\n",
       "      <th>4</th>\n",
       "      <td>M</td>\n",
       "      <td>NaN</td>\n",
       "    </tr>\n",
       "  </tbody>\n",
       "</table>\n",
       "</div>"
      ],
      "text/plain": [
       "  TP_SEXO  NU_NOTA_MT\n",
       "0       M         NaN\n",
       "1       F       480.3\n",
       "2       F         NaN\n",
       "3       F         NaN\n",
       "4       M         NaN"
      ]
     },
     "execution_count": 42,
     "metadata": {},
     "output_type": "execute_result"
    }
   ],
   "source": [
    "dadosSexoRedacao.head()"
   ]
  },
  {
   "cell_type": "code",
   "execution_count": 43,
   "metadata": {},
   "outputs": [],
   "source": [
    "dadosSexoRedacao = dadosSexoRedacao.dropna()"
   ]
  },
  {
   "cell_type": "code",
   "execution_count": 44,
   "metadata": {},
   "outputs": [
    {
     "data": {
      "text/html": [
       "<div>\n",
       "<style scoped>\n",
       "    .dataframe tbody tr th:only-of-type {\n",
       "        vertical-align: middle;\n",
       "    }\n",
       "\n",
       "    .dataframe tbody tr th {\n",
       "        vertical-align: top;\n",
       "    }\n",
       "\n",
       "    .dataframe thead th {\n",
       "        text-align: right;\n",
       "    }\n",
       "</style>\n",
       "<table border=\"1\" class=\"dataframe\">\n",
       "  <thead>\n",
       "    <tr style=\"text-align: right;\">\n",
       "      <th></th>\n",
       "      <th>TP_SEXO</th>\n",
       "      <th>NU_NOTA_MT</th>\n",
       "    </tr>\n",
       "  </thead>\n",
       "  <tbody>\n",
       "    <tr>\n",
       "      <th>1</th>\n",
       "      <td>F</td>\n",
       "      <td>480.3</td>\n",
       "    </tr>\n",
       "    <tr>\n",
       "      <th>5</th>\n",
       "      <td>F</td>\n",
       "      <td>538.8</td>\n",
       "    </tr>\n",
       "    <tr>\n",
       "      <th>7</th>\n",
       "      <td>M</td>\n",
       "      <td>733.8</td>\n",
       "    </tr>\n",
       "    <tr>\n",
       "      <th>8</th>\n",
       "      <td>M</td>\n",
       "      <td>459.0</td>\n",
       "    </tr>\n",
       "    <tr>\n",
       "      <th>9</th>\n",
       "      <td>F</td>\n",
       "      <td>525.4</td>\n",
       "    </tr>\n",
       "  </tbody>\n",
       "</table>\n",
       "</div>"
      ],
      "text/plain": [
       "  TP_SEXO  NU_NOTA_MT\n",
       "1       F       480.3\n",
       "5       F       538.8\n",
       "7       M       733.8\n",
       "8       M       459.0\n",
       "9       F       525.4"
      ]
     },
     "execution_count": 44,
     "metadata": {},
     "output_type": "execute_result"
    }
   ],
   "source": [
    "dadosSexoRedacao.head()"
   ]
  },
  {
   "cell_type": "code",
   "execution_count": 45,
   "metadata": {},
   "outputs": [
    {
     "data": {
      "text/html": [
       "<div>\n",
       "<style scoped>\n",
       "    .dataframe tbody tr th:only-of-type {\n",
       "        vertical-align: middle;\n",
       "    }\n",
       "\n",
       "    .dataframe tbody tr th {\n",
       "        vertical-align: top;\n",
       "    }\n",
       "\n",
       "    .dataframe thead th {\n",
       "        text-align: right;\n",
       "    }\n",
       "</style>\n",
       "<table border=\"1\" class=\"dataframe\">\n",
       "  <thead>\n",
       "    <tr style=\"text-align: right;\">\n",
       "      <th></th>\n",
       "      <th>NU_NOTA_MT</th>\n",
       "    </tr>\n",
       "    <tr>\n",
       "      <th>TP_SEXO</th>\n",
       "      <th></th>\n",
       "    </tr>\n",
       "  </thead>\n",
       "  <tbody>\n",
       "    <tr>\n",
       "      <th>F</th>\n",
       "      <td>2307351</td>\n",
       "    </tr>\n",
       "    <tr>\n",
       "      <th>M</th>\n",
       "      <td>1597748</td>\n",
       "    </tr>\n",
       "  </tbody>\n",
       "</table>\n",
       "</div>"
      ],
      "text/plain": [
       "         NU_NOTA_MT\n",
       "TP_SEXO            \n",
       "F           2307351\n",
       "M           1597748"
      ]
     },
     "execution_count": 45,
     "metadata": {},
     "output_type": "execute_result"
    }
   ],
   "source": [
    "dadosSexoRedacao.groupby('TP_SEXO').count()"
   ]
  },
  {
   "cell_type": "code",
   "execution_count": 46,
   "metadata": {},
   "outputs": [
    {
     "data": {
      "text/html": [
       "<div>\n",
       "<style scoped>\n",
       "    .dataframe tbody tr th:only-of-type {\n",
       "        vertical-align: middle;\n",
       "    }\n",
       "\n",
       "    .dataframe tbody tr th {\n",
       "        vertical-align: top;\n",
       "    }\n",
       "\n",
       "    .dataframe thead th {\n",
       "        text-align: right;\n",
       "    }\n",
       "</style>\n",
       "<table border=\"1\" class=\"dataframe\">\n",
       "  <thead>\n",
       "    <tr style=\"text-align: right;\">\n",
       "      <th></th>\n",
       "      <th>NU_NOTA_MT</th>\n",
       "    </tr>\n",
       "    <tr>\n",
       "      <th>TP_SEXO</th>\n",
       "      <th></th>\n",
       "    </tr>\n",
       "  </thead>\n",
       "  <tbody>\n",
       "    <tr>\n",
       "      <th>F</th>\n",
       "      <td>996.1</td>\n",
       "    </tr>\n",
       "    <tr>\n",
       "      <th>M</th>\n",
       "      <td>996.1</td>\n",
       "    </tr>\n",
       "  </tbody>\n",
       "</table>\n",
       "</div>"
      ],
      "text/plain": [
       "         NU_NOTA_MT\n",
       "TP_SEXO            \n",
       "F             996.1\n",
       "M             996.1"
      ]
     },
     "execution_count": 46,
     "metadata": {},
     "output_type": "execute_result"
    }
   ],
   "source": [
    "dadosSexoRedacao.groupby('TP_SEXO').max()"
   ]
  },
  {
   "cell_type": "code",
   "execution_count": 47,
   "metadata": {},
   "outputs": [
    {
     "data": {
      "text/html": [
       "<div>\n",
       "<style scoped>\n",
       "    .dataframe tbody tr th:only-of-type {\n",
       "        vertical-align: middle;\n",
       "    }\n",
       "\n",
       "    .dataframe tbody tr th {\n",
       "        vertical-align: top;\n",
       "    }\n",
       "\n",
       "    .dataframe thead th {\n",
       "        text-align: right;\n",
       "    }\n",
       "</style>\n",
       "<table border=\"1\" class=\"dataframe\">\n",
       "  <thead>\n",
       "    <tr style=\"text-align: right;\">\n",
       "      <th></th>\n",
       "      <th>NU_NOTA_MT</th>\n",
       "    </tr>\n",
       "    <tr>\n",
       "      <th>TP_SEXO</th>\n",
       "      <th></th>\n",
       "    </tr>\n",
       "  </thead>\n",
       "  <tbody>\n",
       "    <tr>\n",
       "      <th>F</th>\n",
       "      <td>0.0</td>\n",
       "    </tr>\n",
       "    <tr>\n",
       "      <th>M</th>\n",
       "      <td>0.0</td>\n",
       "    </tr>\n",
       "  </tbody>\n",
       "</table>\n",
       "</div>"
      ],
      "text/plain": [
       "         NU_NOTA_MT\n",
       "TP_SEXO            \n",
       "F               0.0\n",
       "M               0.0"
      ]
     },
     "execution_count": 47,
     "metadata": {},
     "output_type": "execute_result"
    }
   ],
   "source": [
    "dadosSexoRedacao.groupby('TP_SEXO').min()"
   ]
  },
  {
   "cell_type": "code",
   "execution_count": 48,
   "metadata": {},
   "outputs": [],
   "source": [
    "dadosSelecionado = ['TP_SEXO', 'NU_NOTA_MT']"
   ]
  },
  {
   "cell_type": "code",
   "execution_count": 49,
   "metadata": {},
   "outputs": [
    {
     "data": {
      "text/html": [
       "<div>\n",
       "<style scoped>\n",
       "    .dataframe tbody tr th:only-of-type {\n",
       "        vertical-align: middle;\n",
       "    }\n",
       "\n",
       "    .dataframe tbody tr th {\n",
       "        vertical-align: top;\n",
       "    }\n",
       "\n",
       "    .dataframe thead th {\n",
       "        text-align: right;\n",
       "    }\n",
       "</style>\n",
       "<table border=\"1\" class=\"dataframe\">\n",
       "  <thead>\n",
       "    <tr style=\"text-align: right;\">\n",
       "      <th></th>\n",
       "      <th>NU_NOTA_MT</th>\n",
       "    </tr>\n",
       "    <tr>\n",
       "      <th>TP_SEXO</th>\n",
       "      <th></th>\n",
       "    </tr>\n",
       "  </thead>\n",
       "  <tbody>\n",
       "    <tr>\n",
       "      <th>F</th>\n",
       "      <td>360.0</td>\n",
       "    </tr>\n",
       "    <tr>\n",
       "      <th>M</th>\n",
       "      <td>360.3</td>\n",
       "    </tr>\n",
       "  </tbody>\n",
       "</table>\n",
       "</div>"
      ],
      "text/plain": [
       "         NU_NOTA_MT\n",
       "TP_SEXO            \n",
       "F             360.0\n",
       "M             360.3"
      ]
     },
     "execution_count": 49,
     "metadata": {},
     "output_type": "execute_result"
    }
   ],
   "source": [
    "dadosSexoRedacao[dadosSexoRedacao.NU_NOTA_MT >0].groupby('TP_SEXO').min()"
   ]
  },
  {
   "cell_type": "code",
   "execution_count": 50,
   "metadata": {},
   "outputs": [
    {
     "data": {
      "text/html": [
       "<div>\n",
       "<style scoped>\n",
       "    .dataframe tbody tr th:only-of-type {\n",
       "        vertical-align: middle;\n",
       "    }\n",
       "\n",
       "    .dataframe tbody tr th {\n",
       "        vertical-align: top;\n",
       "    }\n",
       "\n",
       "    .dataframe thead th {\n",
       "        text-align: right;\n",
       "    }\n",
       "</style>\n",
       "<table border=\"1\" class=\"dataframe\">\n",
       "  <thead>\n",
       "    <tr style=\"text-align: right;\">\n",
       "      <th></th>\n",
       "      <th>NU_NOTA_MT</th>\n",
       "    </tr>\n",
       "    <tr>\n",
       "      <th>TP_SEXO</th>\n",
       "      <th></th>\n",
       "    </tr>\n",
       "  </thead>\n",
       "  <tbody>\n",
       "    <tr>\n",
       "      <th>F</th>\n",
       "      <td>518.279202</td>\n",
       "    </tr>\n",
       "    <tr>\n",
       "      <th>M</th>\n",
       "      <td>560.138211</td>\n",
       "    </tr>\n",
       "  </tbody>\n",
       "</table>\n",
       "</div>"
      ],
      "text/plain": [
       "         NU_NOTA_MT\n",
       "TP_SEXO            \n",
       "F        518.279202\n",
       "M        560.138211"
      ]
     },
     "execution_count": 50,
     "metadata": {},
     "output_type": "execute_result"
    }
   ],
   "source": [
    "dadosSexoRedacao.groupby('TP_SEXO').mean()"
   ]
  },
  {
   "cell_type": "code",
   "execution_count": 51,
   "metadata": {},
   "outputs": [
    {
     "data": {
      "text/html": [
       "<div>\n",
       "<style scoped>\n",
       "    .dataframe tbody tr th:only-of-type {\n",
       "        vertical-align: middle;\n",
       "    }\n",
       "\n",
       "    .dataframe tbody tr th {\n",
       "        vertical-align: top;\n",
       "    }\n",
       "\n",
       "    .dataframe thead th {\n",
       "        text-align: right;\n",
       "    }\n",
       "</style>\n",
       "<table border=\"1\" class=\"dataframe\">\n",
       "  <thead>\n",
       "    <tr style=\"text-align: right;\">\n",
       "      <th></th>\n",
       "      <th>NU_NOTA_MT</th>\n",
       "    </tr>\n",
       "    <tr>\n",
       "      <th>TP_SEXO</th>\n",
       "      <th></th>\n",
       "    </tr>\n",
       "  </thead>\n",
       "  <tbody>\n",
       "    <tr>\n",
       "      <th>F</th>\n",
       "      <td>500.7</td>\n",
       "    </tr>\n",
       "    <tr>\n",
       "      <th>M</th>\n",
       "      <td>543.9</td>\n",
       "    </tr>\n",
       "  </tbody>\n",
       "</table>\n",
       "</div>"
      ],
      "text/plain": [
       "         NU_NOTA_MT\n",
       "TP_SEXO            \n",
       "F             500.7\n",
       "M             543.9"
      ]
     },
     "execution_count": 51,
     "metadata": {},
     "output_type": "execute_result"
    }
   ],
   "source": [
    "dadosSexoRedacao.groupby('TP_SEXO').median()"
   ]
  },
  {
   "cell_type": "code",
   "execution_count": 52,
   "metadata": {},
   "outputs": [
    {
     "data": {
      "text/plain": [
       "TP_SEXO\n",
       "F    [[AxesSubplot(0.125,0.125;0.775x0.755)]]\n",
       "M    [[AxesSubplot(0.125,0.125;0.775x0.755)]]\n",
       "dtype: object"
      ]
     },
     "execution_count": 52,
     "metadata": {},
     "output_type": "execute_result"
    },
    {
     "data": {
      "image/png": "[encoded data removed]",
      "text/plain": [
       "<Figure size 432x288 with 1 Axes>"
      ]
     },
     "metadata": {
      "needs_background": "light"
     },
     "output_type": "display_data"
    },
    {
     "data": {
      "image/png": "[encoded data removed]",
      "text/plain": [
       "<Figure size 432x288 with 1 Axes>"
      ]
     },
     "metadata": {
      "needs_background": "light"
     },
     "output_type": "display_data"
    }
   ],
   "source": [
    "dadosSexoRedacao.groupby('TP_SEXO').hist()"
   ]
  },
  {
   "cell_type": "code",
   "execution_count": 53,
   "metadata": {
    "scrolled": false
   },
   "outputs": [
    {
     "data": {
      "text/html": [
       "<div>\n",
       "<style scoped>\n",
       "    .dataframe tbody tr th:only-of-type {\n",
       "        vertical-align: middle;\n",
       "    }\n",
       "\n",
       "    .dataframe tbody tr th {\n",
       "        vertical-align: top;\n",
       "    }\n",
       "\n",
       "    .dataframe thead tr th {\n",
       "        text-align: left;\n",
       "    }\n",
       "\n",
       "    .dataframe thead tr:last-of-type th {\n",
       "        text-align: right;\n",
       "    }\n",
       "</style>\n",
       "<table border=\"1\" class=\"dataframe\">\n",
       "  <thead>\n",
       "    <tr>\n",
       "      <th></th>\n",
       "      <th colspan=\"8\" halign=\"left\">NU_NOTA_MT</th>\n",
       "    </tr>\n",
       "    <tr>\n",
       "      <th></th>\n",
       "      <th>count</th>\n",
       "      <th>mean</th>\n",
       "      <th>std</th>\n",
       "      <th>min</th>\n",
       "      <th>25%</th>\n",
       "      <th>50%</th>\n",
       "      <th>75%</th>\n",
       "      <th>max</th>\n",
       "    </tr>\n",
       "    <tr>\n",
       "      <th>TP_SEXO</th>\n",
       "      <th></th>\n",
       "      <th></th>\n",
       "      <th></th>\n",
       "      <th></th>\n",
       "      <th></th>\n",
       "      <th></th>\n",
       "      <th></th>\n",
       "      <th></th>\n",
       "    </tr>\n",
       "  </thead>\n",
       "  <tbody>\n",
       "    <tr>\n",
       "      <th>F</th>\n",
       "      <td>2307351.0</td>\n",
       "      <td>518.279202</td>\n",
       "      <td>95.361530</td>\n",
       "      <td>0.0</td>\n",
       "      <td>445.6</td>\n",
       "      <td>500.7</td>\n",
       "      <td>573.0</td>\n",
       "      <td>996.1</td>\n",
       "    </tr>\n",
       "    <tr>\n",
       "      <th>M</th>\n",
       "      <td>1597748.0</td>\n",
       "      <td>560.138211</td>\n",
       "      <td>108.802748</td>\n",
       "      <td>0.0</td>\n",
       "      <td>474.0</td>\n",
       "      <td>543.9</td>\n",
       "      <td>640.3</td>\n",
       "      <td>996.1</td>\n",
       "    </tr>\n",
       "  </tbody>\n",
       "</table>\n",
       "</div>"
      ],
      "text/plain": [
       "        NU_NOTA_MT                                                         \n",
       "             count        mean         std  min    25%    50%    75%    max\n",
       "TP_SEXO                                                                    \n",
       "F        2307351.0  518.279202   95.361530  0.0  445.6  500.7  573.0  996.1\n",
       "M        1597748.0  560.138211  108.802748  0.0  474.0  543.9  640.3  996.1"
      ]
     },
     "execution_count": 53,
     "metadata": {},
     "output_type": "execute_result"
    }
   ],
   "source": [
    "dadosSexoRedacao.groupby('TP_SEXO').describe()"
   ]
  },
  {
   "cell_type": "code",
   "execution_count": 54,
   "metadata": {},
   "outputs": [],
   "source": [
    "dadosSelecionado = ['TP_SEXO', 'NU_NOTA_CH']"
   ]
  },
  {
   "cell_type": "code",
   "execution_count": 55,
   "metadata": {},
   "outputs": [],
   "source": [
    "dadosSexoCienHum = dados.filter(items=dadosSelecionado)"
   ]
  },
  {
   "cell_type": "code",
   "execution_count": 56,
   "metadata": {},
   "outputs": [],
   "source": [
    "dadosSexoCienHum = dadosSexoCienHum.dropna()"
   ]
  },
  {
   "cell_type": "code",
   "execution_count": 57,
   "metadata": {},
   "outputs": [
    {
     "data": {
      "text/html": [
       "<div>\n",
       "<style scoped>\n",
       "    .dataframe tbody tr th:only-of-type {\n",
       "        vertical-align: middle;\n",
       "    }\n",
       "\n",
       "    .dataframe tbody tr th {\n",
       "        vertical-align: top;\n",
       "    }\n",
       "\n",
       "    .dataframe thead th {\n",
       "        text-align: right;\n",
       "    }\n",
       "</style>\n",
       "<table border=\"1\" class=\"dataframe\">\n",
       "  <thead>\n",
       "    <tr style=\"text-align: right;\">\n",
       "      <th></th>\n",
       "      <th>TP_SEXO</th>\n",
       "      <th>NU_NOTA_CH</th>\n",
       "    </tr>\n",
       "  </thead>\n",
       "  <tbody>\n",
       "    <tr>\n",
       "      <th>1</th>\n",
       "      <td>F</td>\n",
       "      <td>568.7</td>\n",
       "    </tr>\n",
       "    <tr>\n",
       "      <th>4</th>\n",
       "      <td>M</td>\n",
       "      <td>419.9</td>\n",
       "    </tr>\n",
       "    <tr>\n",
       "      <th>5</th>\n",
       "      <td>F</td>\n",
       "      <td>564.0</td>\n",
       "    </tr>\n",
       "    <tr>\n",
       "      <th>7</th>\n",
       "      <td>M</td>\n",
       "      <td>663.2</td>\n",
       "    </tr>\n",
       "    <tr>\n",
       "      <th>8</th>\n",
       "      <td>M</td>\n",
       "      <td>429.8</td>\n",
       "    </tr>\n",
       "  </tbody>\n",
       "</table>\n",
       "</div>"
      ],
      "text/plain": [
       "  TP_SEXO  NU_NOTA_CH\n",
       "1       F       568.7\n",
       "4       M       419.9\n",
       "5       F       564.0\n",
       "7       M       663.2\n",
       "8       M       429.8"
      ]
     },
     "execution_count": 57,
     "metadata": {},
     "output_type": "execute_result"
    }
   ],
   "source": [
    "dadosSexoCienHum.head()"
   ]
  },
  {
   "cell_type": "code",
   "execution_count": 58,
   "metadata": {},
   "outputs": [
    {
     "data": {
      "text/html": [
       "<div>\n",
       "<style scoped>\n",
       "    .dataframe tbody tr th:only-of-type {\n",
       "        vertical-align: middle;\n",
       "    }\n",
       "\n",
       "    .dataframe tbody tr th {\n",
       "        vertical-align: top;\n",
       "    }\n",
       "\n",
       "    .dataframe thead th {\n",
       "        text-align: right;\n",
       "    }\n",
       "</style>\n",
       "<table border=\"1\" class=\"dataframe\">\n",
       "  <thead>\n",
       "    <tr style=\"text-align: right;\">\n",
       "      <th></th>\n",
       "      <th>NU_NOTA_CH</th>\n",
       "    </tr>\n",
       "    <tr>\n",
       "      <th>TP_SEXO</th>\n",
       "      <th></th>\n",
       "    </tr>\n",
       "  </thead>\n",
       "  <tbody>\n",
       "    <tr>\n",
       "      <th>F</th>\n",
       "      <td>2454691</td>\n",
       "    </tr>\n",
       "    <tr>\n",
       "      <th>M</th>\n",
       "      <td>1693573</td>\n",
       "    </tr>\n",
       "  </tbody>\n",
       "</table>\n",
       "</div>"
      ],
      "text/plain": [
       "         NU_NOTA_CH\n",
       "TP_SEXO            \n",
       "F           2454691\n",
       "M           1693573"
      ]
     },
     "execution_count": 58,
     "metadata": {},
     "output_type": "execute_result"
    }
   ],
   "source": [
    "dadosSexoCienHum.groupby('TP_SEXO').count()"
   ]
  },
  {
   "cell_type": "code",
   "execution_count": 59,
   "metadata": {},
   "outputs": [
    {
     "data": {
      "text/html": [
       "<div>\n",
       "<style scoped>\n",
       "    .dataframe tbody tr th:only-of-type {\n",
       "        vertical-align: middle;\n",
       "    }\n",
       "\n",
       "    .dataframe tbody tr th {\n",
       "        vertical-align: top;\n",
       "    }\n",
       "\n",
       "    .dataframe thead th {\n",
       "        text-align: right;\n",
       "    }\n",
       "</style>\n",
       "<table border=\"1\" class=\"dataframe\">\n",
       "  <thead>\n",
       "    <tr style=\"text-align: right;\">\n",
       "      <th></th>\n",
       "      <th>NU_NOTA_CH</th>\n",
       "    </tr>\n",
       "    <tr>\n",
       "      <th>TP_SEXO</th>\n",
       "      <th></th>\n",
       "    </tr>\n",
       "  </thead>\n",
       "  <tbody>\n",
       "    <tr>\n",
       "      <th>F</th>\n",
       "      <td>850.4</td>\n",
       "    </tr>\n",
       "    <tr>\n",
       "      <th>M</th>\n",
       "      <td>850.4</td>\n",
       "    </tr>\n",
       "  </tbody>\n",
       "</table>\n",
       "</div>"
      ],
      "text/plain": [
       "         NU_NOTA_CH\n",
       "TP_SEXO            \n",
       "F             850.4\n",
       "M             850.4"
      ]
     },
     "execution_count": 59,
     "metadata": {},
     "output_type": "execute_result"
    }
   ],
   "source": [
    "dadosSexoCienHum.groupby('TP_SEXO').max()"
   ]
  },
  {
   "cell_type": "code",
   "execution_count": 60,
   "metadata": {},
   "outputs": [
    {
     "data": {
      "text/html": [
       "<div>\n",
       "<style scoped>\n",
       "    .dataframe tbody tr th:only-of-type {\n",
       "        vertical-align: middle;\n",
       "    }\n",
       "\n",
       "    .dataframe tbody tr th {\n",
       "        vertical-align: top;\n",
       "    }\n",
       "\n",
       "    .dataframe thead th {\n",
       "        text-align: right;\n",
       "    }\n",
       "</style>\n",
       "<table border=\"1\" class=\"dataframe\">\n",
       "  <thead>\n",
       "    <tr style=\"text-align: right;\">\n",
       "      <th></th>\n",
       "      <th>NU_NOTA_CH</th>\n",
       "    </tr>\n",
       "    <tr>\n",
       "      <th>TP_SEXO</th>\n",
       "      <th></th>\n",
       "    </tr>\n",
       "  </thead>\n",
       "  <tbody>\n",
       "    <tr>\n",
       "      <th>F</th>\n",
       "      <td>0.0</td>\n",
       "    </tr>\n",
       "    <tr>\n",
       "      <th>M</th>\n",
       "      <td>0.0</td>\n",
       "    </tr>\n",
       "  </tbody>\n",
       "</table>\n",
       "</div>"
      ],
      "text/plain": [
       "         NU_NOTA_CH\n",
       "TP_SEXO            \n",
       "F               0.0\n",
       "M               0.0"
      ]
     },
     "execution_count": 60,
     "metadata": {},
     "output_type": "execute_result"
    }
   ],
   "source": [
    "dadosSexoCienHum.groupby('TP_SEXO').min()"
   ]
  },
  {
   "cell_type": "code",
   "execution_count": 61,
   "metadata": {},
   "outputs": [
    {
     "data": {
      "text/html": [
       "<div>\n",
       "<style scoped>\n",
       "    .dataframe tbody tr th:only-of-type {\n",
       "        vertical-align: middle;\n",
       "    }\n",
       "\n",
       "    .dataframe tbody tr th {\n",
       "        vertical-align: top;\n",
       "    }\n",
       "\n",
       "    .dataframe thead th {\n",
       "        text-align: right;\n",
       "    }\n",
       "</style>\n",
       "<table border=\"1\" class=\"dataframe\">\n",
       "  <thead>\n",
       "    <tr style=\"text-align: right;\">\n",
       "      <th></th>\n",
       "      <th>NU_NOTA_CH</th>\n",
       "    </tr>\n",
       "    <tr>\n",
       "      <th>TP_SEXO</th>\n",
       "      <th></th>\n",
       "    </tr>\n",
       "  </thead>\n",
       "  <tbody>\n",
       "    <tr>\n",
       "      <th>F</th>\n",
       "      <td>563.987985</td>\n",
       "    </tr>\n",
       "    <tr>\n",
       "      <th>M</th>\n",
       "      <td>574.054469</td>\n",
       "    </tr>\n",
       "  </tbody>\n",
       "</table>\n",
       "</div>"
      ],
      "text/plain": [
       "         NU_NOTA_CH\n",
       "TP_SEXO            \n",
       "F        563.987985\n",
       "M        574.054469"
      ]
     },
     "execution_count": 61,
     "metadata": {},
     "output_type": "execute_result"
    }
   ],
   "source": [
    "dadosSexoCienHum.groupby('TP_SEXO').mean()"
   ]
  },
  {
   "cell_type": "code",
   "execution_count": 62,
   "metadata": {},
   "outputs": [
    {
     "data": {
      "text/html": [
       "<div>\n",
       "<style scoped>\n",
       "    .dataframe tbody tr th:only-of-type {\n",
       "        vertical-align: middle;\n",
       "    }\n",
       "\n",
       "    .dataframe tbody tr th {\n",
       "        vertical-align: top;\n",
       "    }\n",
       "\n",
       "    .dataframe thead th {\n",
       "        text-align: right;\n",
       "    }\n",
       "</style>\n",
       "<table border=\"1\" class=\"dataframe\">\n",
       "  <thead>\n",
       "    <tr style=\"text-align: right;\">\n",
       "      <th></th>\n",
       "      <th>NU_NOTA_CH</th>\n",
       "    </tr>\n",
       "    <tr>\n",
       "      <th>TP_SEXO</th>\n",
       "      <th></th>\n",
       "    </tr>\n",
       "  </thead>\n",
       "  <tbody>\n",
       "    <tr>\n",
       "      <th>F</th>\n",
       "      <td>576.0</td>\n",
       "    </tr>\n",
       "    <tr>\n",
       "      <th>M</th>\n",
       "      <td>592.1</td>\n",
       "    </tr>\n",
       "  </tbody>\n",
       "</table>\n",
       "</div>"
      ],
      "text/plain": [
       "         NU_NOTA_CH\n",
       "TP_SEXO            \n",
       "F             576.0\n",
       "M             592.1"
      ]
     },
     "execution_count": 62,
     "metadata": {},
     "output_type": "execute_result"
    }
   ],
   "source": [
    "dadosSexoCienHum.groupby('TP_SEXO').median()"
   ]
  },
  {
   "cell_type": "code",
   "execution_count": 63,
   "metadata": {},
   "outputs": [
    {
     "data": {
      "text/plain": [
       "TP_SEXO\n",
       "F    [[AxesSubplot(0.125,0.125;0.775x0.755)]]\n",
       "M    [[AxesSubplot(0.125,0.125;0.775x0.755)]]\n",
       "dtype: object"
      ]
     },
     "execution_count": 63,
     "metadata": {},
     "output_type": "execute_result"
    },
    {
     "data": {
      "image/png": "[encoded data removed]",
      "text/plain": [
       "<Figure size 432x288 with 1 Axes>"
      ]
     },
     "metadata": {
      "needs_background": "light"
     },
     "output_type": "display_data"
    },
    {
     "data": {
      "image/png": "[encoded data removed]",
      "text/plain": [
       "<Figure size 432x288 with 1 Axes>"
      ]
     },
     "metadata": {
      "needs_background": "light"
     },
     "output_type": "display_data"
    }
   ],
   "source": [
    "dadosSexoCienHum.groupby('TP_SEXO').hist()"
   ]
  },
  {
   "cell_type": "code",
   "execution_count": 64,
   "metadata": {},
   "outputs": [
    {
     "data": {
      "text/html": [
       "<div>\n",
       "<style scoped>\n",
       "    .dataframe tbody tr th:only-of-type {\n",
       "        vertical-align: middle;\n",
       "    }\n",
       "\n",
       "    .dataframe tbody tr th {\n",
       "        vertical-align: top;\n",
       "    }\n",
       "\n",
       "    .dataframe thead tr th {\n",
       "        text-align: left;\n",
       "    }\n",
       "\n",
       "    .dataframe thead tr:last-of-type th {\n",
       "        text-align: right;\n",
       "    }\n",
       "</style>\n",
       "<table border=\"1\" class=\"dataframe\">\n",
       "  <thead>\n",
       "    <tr>\n",
       "      <th></th>\n",
       "      <th colspan=\"8\" halign=\"left\">NU_NOTA_CH</th>\n",
       "    </tr>\n",
       "    <tr>\n",
       "      <th></th>\n",
       "      <th>count</th>\n",
       "      <th>mean</th>\n",
       "      <th>std</th>\n",
       "      <th>min</th>\n",
       "      <th>25%</th>\n",
       "      <th>50%</th>\n",
       "      <th>75%</th>\n",
       "      <th>max</th>\n",
       "    </tr>\n",
       "    <tr>\n",
       "      <th>TP_SEXO</th>\n",
       "      <th></th>\n",
       "      <th></th>\n",
       "      <th></th>\n",
       "      <th></th>\n",
       "      <th></th>\n",
       "      <th></th>\n",
       "      <th></th>\n",
       "      <th></th>\n",
       "    </tr>\n",
       "  </thead>\n",
       "  <tbody>\n",
       "    <tr>\n",
       "      <th>F</th>\n",
       "      <td>2454691.0</td>\n",
       "      <td>563.987985</td>\n",
       "      <td>79.165478</td>\n",
       "      <td>0.0</td>\n",
       "      <td>507.3</td>\n",
       "      <td>576.0</td>\n",
       "      <td>622.4</td>\n",
       "      <td>850.4</td>\n",
       "    </tr>\n",
       "    <tr>\n",
       "      <th>M</th>\n",
       "      <td>1693573.0</td>\n",
       "      <td>574.054469</td>\n",
       "      <td>84.225843</td>\n",
       "      <td>0.0</td>\n",
       "      <td>514.0</td>\n",
       "      <td>592.1</td>\n",
       "      <td>636.0</td>\n",
       "      <td>850.4</td>\n",
       "    </tr>\n",
       "  </tbody>\n",
       "</table>\n",
       "</div>"
      ],
      "text/plain": [
       "        NU_NOTA_CH                                                        \n",
       "             count        mean        std  min    25%    50%    75%    max\n",
       "TP_SEXO                                                                   \n",
       "F        2454691.0  563.987985  79.165478  0.0  507.3  576.0  622.4  850.4\n",
       "M        1693573.0  574.054469  84.225843  0.0  514.0  592.1  636.0  850.4"
      ]
     },
     "execution_count": 64,
     "metadata": {},
     "output_type": "execute_result"
    }
   ],
   "source": [
    "dadosSexoCienHum.groupby('TP_SEXO').describe()"
   ]
  },
  {
   "cell_type": "markdown",
   "metadata": {},
   "source": [
    "# QUESTIONARIO SOCIO ECONOMICO ENEM 2018"
   ]
  },
  {
   "cell_type": "code",
   "execution_count": 65,
   "metadata": {},
   "outputs": [],
   "source": [
    "import pandas\n",
    "import pandas as pd\n",
    "import matplotlib.pyplot as plt\n",
    "import statsmodels.api as sm\n",
    "import csv\n",
    "import numpy as np"
   ]
  },
  {
   "cell_type": "code",
   "execution_count": 66,
   "metadata": {},
   "outputs": [],
   "source": [
    "colunas = ['NU_INSCRICAO', 'SG_UF_RESIDENCIA', 'IN_GESTANTE',\n",
    "           'NU_IDADE', 'TP_SEXO', 'CO_MUNICIPIO_RESIDENCIA', \n",
    "           'CO_UF_PROVA', 'SG_UF_PROVA', \n",
    "           'NU_NOTA_CN', 'NU_NOTA_CH', 'NU_NOTA_LC', 'NU_NOTA_MT', \n",
    "           'NU_NOTA_REDACAO', 'Q001', 'Q002']"
   ]
  },
  {
   "cell_type": "code",
   "execution_count": 67,
   "metadata": {},
   "outputs": [],
   "source": [
    "socEcon = pandas.read_csv('MICRODADOS_ENEM_2018.csv', sep=';', encoding='ISO-8859-1', usecols=colunas)"
   ]
  },
  {
   "cell_type": "code",
   "execution_count": 68,
   "metadata": {
    "scrolled": true
   },
   "outputs": [
    {
     "data": {
      "text/plain": [
       "array(['NU_INSCRICAO', 'CO_MUNICIPIO_RESIDENCIA', 'SG_UF_RESIDENCIA',\n",
       "       'NU_IDADE', 'TP_SEXO', 'IN_GESTANTE', 'CO_UF_PROVA', 'SG_UF_PROVA',\n",
       "       'NU_NOTA_CN', 'NU_NOTA_CH', 'NU_NOTA_LC', 'NU_NOTA_MT',\n",
       "       'NU_NOTA_REDACAO', 'Q001', 'Q002'], dtype=object)"
      ]
     },
     "execution_count": 68,
     "metadata": {},
     "output_type": "execute_result"
    }
   ],
   "source": [
    "socEcon.columns.values"
   ]
  },
  {
   "cell_type": "code",
   "execution_count": 69,
   "metadata": {},
   "outputs": [],
   "source": [
    "socEconSelecionado = ['NU_INSCRICAO', 'CO_MUNICIPIO_RESIDENCIA', 'SG_UF_RESIDENCIA',\n",
    "       'NU_IDADE', 'TP_SEXO', 'IN_GESTANTE', 'CO_UF_PROVA', 'SG_UF_PROVA',\n",
    "       'NU_NOTA_CN', 'NU_NOTA_CH', 'NU_NOTA_LC', 'NU_NOTA_MT',\n",
    "       'NU_NOTA_REDACAO', 'Q001', 'Q002']"
   ]
  },
  {
   "cell_type": "code",
   "execution_count": 70,
   "metadata": {},
   "outputs": [],
   "source": [
    "socEconSelecionado = socEcon.filter(items=socEconSelecionado)"
   ]
  },
  {
   "cell_type": "code",
   "execution_count": 71,
   "metadata": {},
   "outputs": [],
   "source": [
    "socEconSelecionado = socEconSelecionado.dropna()"
   ]
  },
  {
   "cell_type": "code",
   "execution_count": 72,
   "metadata": {},
   "outputs": [
    {
     "data": {
      "text/html": [
       "<div>\n",
       "<style scoped>\n",
       "    .dataframe tbody tr th:only-of-type {\n",
       "        vertical-align: middle;\n",
       "    }\n",
       "\n",
       "    .dataframe tbody tr th {\n",
       "        vertical-align: top;\n",
       "    }\n",
       "\n",
       "    .dataframe thead th {\n",
       "        text-align: right;\n",
       "    }\n",
       "</style>\n",
       "<table border=\"1\" class=\"dataframe\">\n",
       "  <thead>\n",
       "    <tr style=\"text-align: right;\">\n",
       "      <th></th>\n",
       "      <th>NU_INSCRICAO</th>\n",
       "      <th>CO_MUNICIPIO_RESIDENCIA</th>\n",
       "      <th>SG_UF_RESIDENCIA</th>\n",
       "      <th>NU_IDADE</th>\n",
       "      <th>TP_SEXO</th>\n",
       "      <th>IN_GESTANTE</th>\n",
       "      <th>CO_UF_PROVA</th>\n",
       "      <th>SG_UF_PROVA</th>\n",
       "      <th>NU_NOTA_CN</th>\n",
       "      <th>NU_NOTA_CH</th>\n",
       "      <th>NU_NOTA_LC</th>\n",
       "      <th>NU_NOTA_MT</th>\n",
       "      <th>NU_NOTA_REDACAO</th>\n",
       "      <th>Q001</th>\n",
       "      <th>Q002</th>\n",
       "    </tr>\n",
       "  </thead>\n",
       "  <tbody>\n",
       "    <tr>\n",
       "      <th>1</th>\n",
       "      <td>180007197856</td>\n",
       "      <td>2111102</td>\n",
       "      <td>MA</td>\n",
       "      <td>23.0</td>\n",
       "      <td>F</td>\n",
       "      <td>0</td>\n",
       "      <td>21</td>\n",
       "      <td>MA</td>\n",
       "      <td>521.0</td>\n",
       "      <td>568.7</td>\n",
       "      <td>513.1</td>\n",
       "      <td>480.3</td>\n",
       "      <td>280.0</td>\n",
       "      <td>B</td>\n",
       "      <td>B</td>\n",
       "    </tr>\n",
       "    <tr>\n",
       "      <th>5</th>\n",
       "      <td>180007239581</td>\n",
       "      <td>2507507</td>\n",
       "      <td>PB</td>\n",
       "      <td>23.0</td>\n",
       "      <td>F</td>\n",
       "      <td>0</td>\n",
       "      <td>25</td>\n",
       "      <td>PB</td>\n",
       "      <td>461.8</td>\n",
       "      <td>564.0</td>\n",
       "      <td>466.8</td>\n",
       "      <td>538.8</td>\n",
       "      <td>580.0</td>\n",
       "      <td>C</td>\n",
       "      <td>D</td>\n",
       "    </tr>\n",
       "    <tr>\n",
       "      <th>7</th>\n",
       "      <td>180008090447</td>\n",
       "      <td>2207702</td>\n",
       "      <td>PI</td>\n",
       "      <td>39.0</td>\n",
       "      <td>M</td>\n",
       "      <td>0</td>\n",
       "      <td>22</td>\n",
       "      <td>PI</td>\n",
       "      <td>499.3</td>\n",
       "      <td>663.2</td>\n",
       "      <td>605.2</td>\n",
       "      <td>733.8</td>\n",
       "      <td>680.0</td>\n",
       "      <td>A</td>\n",
       "      <td>E</td>\n",
       "    </tr>\n",
       "    <tr>\n",
       "      <th>8</th>\n",
       "      <td>180008257068</td>\n",
       "      <td>2304400</td>\n",
       "      <td>CE</td>\n",
       "      <td>19.0</td>\n",
       "      <td>M</td>\n",
       "      <td>0</td>\n",
       "      <td>23</td>\n",
       "      <td>CE</td>\n",
       "      <td>411.8</td>\n",
       "      <td>429.8</td>\n",
       "      <td>445.2</td>\n",
       "      <td>459.0</td>\n",
       "      <td>340.0</td>\n",
       "      <td>D</td>\n",
       "      <td>D</td>\n",
       "    </tr>\n",
       "    <tr>\n",
       "      <th>9</th>\n",
       "      <td>180008202044</td>\n",
       "      <td>5103403</td>\n",
       "      <td>MT</td>\n",
       "      <td>25.0</td>\n",
       "      <td>F</td>\n",
       "      <td>0</td>\n",
       "      <td>51</td>\n",
       "      <td>MT</td>\n",
       "      <td>469.4</td>\n",
       "      <td>650.2</td>\n",
       "      <td>606.6</td>\n",
       "      <td>525.4</td>\n",
       "      <td>740.0</td>\n",
       "      <td>C</td>\n",
       "      <td>C</td>\n",
       "    </tr>\n",
       "  </tbody>\n",
       "</table>\n",
       "</div>"
      ],
      "text/plain": [
       "   NU_INSCRICAO  CO_MUNICIPIO_RESIDENCIA SG_UF_RESIDENCIA  NU_IDADE TP_SEXO  \\\n",
       "1  180007197856                  2111102               MA      23.0       F   \n",
       "5  180007239581                  2507507               PB      23.0       F   \n",
       "7  180008090447                  2207702               PI      39.0       M   \n",
       "8  180008257068                  2304400               CE      19.0       M   \n",
       "9  180008202044                  5103403               MT      25.0       F   \n",
       "\n",
       "   IN_GESTANTE  CO_UF_PROVA SG_UF_PROVA  NU_NOTA_CN  NU_NOTA_CH  NU_NOTA_LC  \\\n",
       "1            0           21          MA       521.0       568.7       513.1   \n",
       "5            0           25          PB       461.8       564.0       466.8   \n",
       "7            0           22          PI       499.3       663.2       605.2   \n",
       "8            0           23          CE       411.8       429.8       445.2   \n",
       "9            0           51          MT       469.4       650.2       606.6   \n",
       "\n",
       "   NU_NOTA_MT  NU_NOTA_REDACAO Q001 Q002  \n",
       "1       480.3            280.0    B    B  \n",
       "5       538.8            580.0    C    D  \n",
       "7       733.8            680.0    A    E  \n",
       "8       459.0            340.0    D    D  \n",
       "9       525.4            740.0    C    C  "
      ]
     },
     "execution_count": 72,
     "metadata": {},
     "output_type": "execute_result"
    }
   ],
   "source": [
    "socEconSelecionado.head()"
   ]
  },
  {
   "cell_type": "markdown",
   "metadata": {},
   "source": [
    "# Finalmente: o questionário de indicadores socioeconômicos!\n",
    "Começaremos pelas duas primeiras questões:\n",
    "\n",
    "Q001 Até que série seu pai, ou o homem responsável por você, estudou?\n",
    "\n",
    "Q002 Até que série sua mãe, ou a mulher responsável por você, estudou?\n",
    "\n",
    "# Passo 1 - Definindo um dicionário:\n",
    "Faremos isso para visualizar melhor o resultado"
   ]
  },
  {
   "cell_type": "code",
   "execution_count": 73,
   "metadata": {},
   "outputs": [],
   "source": [
    "q001e002Dicionario = {\n",
    "'A': 'Nunca estudou',\n",
    "'B':'Não completou a 4ª série/5º ano do Ensino Fundamental',\n",
    "'C':'Completou a 4ª série/5º ano, mas não completou a 8ª série/9º ano do Ensino Fundamental',\n",
    "'D':'Completou a 8ª série/9º ano do Ensino Fundamental, mas não completou o Ensino Médio',\n",
    "'E':'Completou o Ensino Médio, mas não completou a Faculdade',\n",
    "'F':'Completou a Faculdade, mas não completou a Pós-graduação',\n",
    "'G':'Completou a Pós-graduação',\n",
    "'H':'Não sei'}"
   ]
  },
  {
   "cell_type": "code",
   "execution_count": 74,
   "metadata": {},
   "outputs": [
    {
     "data": {
      "text/html": [
       "<div>\n",
       "<style scoped>\n",
       "    .dataframe tbody tr th:only-of-type {\n",
       "        vertical-align: middle;\n",
       "    }\n",
       "\n",
       "    .dataframe tbody tr th {\n",
       "        vertical-align: top;\n",
       "    }\n",
       "\n",
       "    .dataframe thead th {\n",
       "        text-align: right;\n",
       "    }\n",
       "</style>\n",
       "<table border=\"1\" class=\"dataframe\">\n",
       "  <thead>\n",
       "    <tr style=\"text-align: right;\">\n",
       "      <th></th>\n",
       "      <th>NU_INSCRICAO</th>\n",
       "    </tr>\n",
       "    <tr>\n",
       "      <th>Q001</th>\n",
       "      <th></th>\n",
       "    </tr>\n",
       "  </thead>\n",
       "  <tbody>\n",
       "    <tr>\n",
       "      <th>A</th>\n",
       "      <td>200900</td>\n",
       "    </tr>\n",
       "    <tr>\n",
       "      <th>B</th>\n",
       "      <td>813665</td>\n",
       "    </tr>\n",
       "    <tr>\n",
       "      <th>C</th>\n",
       "      <td>549957</td>\n",
       "    </tr>\n",
       "    <tr>\n",
       "      <th>D</th>\n",
       "      <td>460444</td>\n",
       "    </tr>\n",
       "    <tr>\n",
       "      <th>E</th>\n",
       "      <td>1043454</td>\n",
       "    </tr>\n",
       "    <tr>\n",
       "      <th>F</th>\n",
       "      <td>311907</td>\n",
       "    </tr>\n",
       "    <tr>\n",
       "      <th>G</th>\n",
       "      <td>187699</td>\n",
       "    </tr>\n",
       "    <tr>\n",
       "      <th>H</th>\n",
       "      <td>325645</td>\n",
       "    </tr>\n",
       "  </tbody>\n",
       "</table>\n",
       "</div>"
      ],
      "text/plain": [
       "      NU_INSCRICAO\n",
       "Q001              \n",
       "A           200900\n",
       "B           813665\n",
       "C           549957\n",
       "D           460444\n",
       "E          1043454\n",
       "F           311907\n",
       "G           187699\n",
       "H           325645"
      ]
     },
     "execution_count": 74,
     "metadata": {},
     "output_type": "execute_result"
    }
   ],
   "source": [
    "socEconSelecionado.filter(items=['Q001','NU_INSCRICAO'])\\\n",
    "                                .groupby('Q001').count()"
   ]
  },
  {
   "cell_type": "markdown",
   "metadata": {},
   "source": [
    "# Passo 2 - Criar novas colunas no DataFrame\n",
    "Inserido coluna NO_Q001:"
   ]
  },
  {
   "cell_type": "code",
   "execution_count": 75,
   "metadata": {},
   "outputs": [],
   "source": [
    "socEconSelecionado['NO_Q001'] = [q001e002Dicionario[resp] for resp in socEconSelecionado.Q001]"
   ]
  },
  {
   "cell_type": "code",
   "execution_count": 76,
   "metadata": {},
   "outputs": [
    {
     "data": {
      "text/html": [
       "<div>\n",
       "<style scoped>\n",
       "    .dataframe tbody tr th:only-of-type {\n",
       "        vertical-align: middle;\n",
       "    }\n",
       "\n",
       "    .dataframe tbody tr th {\n",
       "        vertical-align: top;\n",
       "    }\n",
       "\n",
       "    .dataframe thead th {\n",
       "        text-align: right;\n",
       "    }\n",
       "</style>\n",
       "<table border=\"1\" class=\"dataframe\">\n",
       "  <thead>\n",
       "    <tr style=\"text-align: right;\">\n",
       "      <th></th>\n",
       "      <th>NU_INSCRICAO</th>\n",
       "      <th>CO_MUNICIPIO_RESIDENCIA</th>\n",
       "      <th>SG_UF_RESIDENCIA</th>\n",
       "      <th>NU_IDADE</th>\n",
       "      <th>TP_SEXO</th>\n",
       "      <th>IN_GESTANTE</th>\n",
       "      <th>CO_UF_PROVA</th>\n",
       "      <th>SG_UF_PROVA</th>\n",
       "      <th>NU_NOTA_CN</th>\n",
       "      <th>NU_NOTA_CH</th>\n",
       "      <th>NU_NOTA_LC</th>\n",
       "      <th>NU_NOTA_MT</th>\n",
       "      <th>NU_NOTA_REDACAO</th>\n",
       "      <th>Q001</th>\n",
       "      <th>Q002</th>\n",
       "      <th>NO_Q001</th>\n",
       "    </tr>\n",
       "  </thead>\n",
       "  <tbody>\n",
       "    <tr>\n",
       "      <th>1</th>\n",
       "      <td>180007197856</td>\n",
       "      <td>2111102</td>\n",
       "      <td>MA</td>\n",
       "      <td>23.0</td>\n",
       "      <td>F</td>\n",
       "      <td>0</td>\n",
       "      <td>21</td>\n",
       "      <td>MA</td>\n",
       "      <td>521.0</td>\n",
       "      <td>568.7</td>\n",
       "      <td>513.1</td>\n",
       "      <td>480.3</td>\n",
       "      <td>280.0</td>\n",
       "      <td>B</td>\n",
       "      <td>B</td>\n",
       "      <td>Não completou a 4ª série/5º ano do Ensino Fund...</td>\n",
       "    </tr>\n",
       "    <tr>\n",
       "      <th>5</th>\n",
       "      <td>180007239581</td>\n",
       "      <td>2507507</td>\n",
       "      <td>PB</td>\n",
       "      <td>23.0</td>\n",
       "      <td>F</td>\n",
       "      <td>0</td>\n",
       "      <td>25</td>\n",
       "      <td>PB</td>\n",
       "      <td>461.8</td>\n",
       "      <td>564.0</td>\n",
       "      <td>466.8</td>\n",
       "      <td>538.8</td>\n",
       "      <td>580.0</td>\n",
       "      <td>C</td>\n",
       "      <td>D</td>\n",
       "      <td>Completou a 4ª série/5º ano, mas não completou...</td>\n",
       "    </tr>\n",
       "    <tr>\n",
       "      <th>7</th>\n",
       "      <td>180008090447</td>\n",
       "      <td>2207702</td>\n",
       "      <td>PI</td>\n",
       "      <td>39.0</td>\n",
       "      <td>M</td>\n",
       "      <td>0</td>\n",
       "      <td>22</td>\n",
       "      <td>PI</td>\n",
       "      <td>499.3</td>\n",
       "      <td>663.2</td>\n",
       "      <td>605.2</td>\n",
       "      <td>733.8</td>\n",
       "      <td>680.0</td>\n",
       "      <td>A</td>\n",
       "      <td>E</td>\n",
       "      <td>Nunca estudou</td>\n",
       "    </tr>\n",
       "    <tr>\n",
       "      <th>8</th>\n",
       "      <td>180008257068</td>\n",
       "      <td>2304400</td>\n",
       "      <td>CE</td>\n",
       "      <td>19.0</td>\n",
       "      <td>M</td>\n",
       "      <td>0</td>\n",
       "      <td>23</td>\n",
       "      <td>CE</td>\n",
       "      <td>411.8</td>\n",
       "      <td>429.8</td>\n",
       "      <td>445.2</td>\n",
       "      <td>459.0</td>\n",
       "      <td>340.0</td>\n",
       "      <td>D</td>\n",
       "      <td>D</td>\n",
       "      <td>Completou a 8ª série/9º ano do Ensino Fundamen...</td>\n",
       "    </tr>\n",
       "    <tr>\n",
       "      <th>9</th>\n",
       "      <td>180008202044</td>\n",
       "      <td>5103403</td>\n",
       "      <td>MT</td>\n",
       "      <td>25.0</td>\n",
       "      <td>F</td>\n",
       "      <td>0</td>\n",
       "      <td>51</td>\n",
       "      <td>MT</td>\n",
       "      <td>469.4</td>\n",
       "      <td>650.2</td>\n",
       "      <td>606.6</td>\n",
       "      <td>525.4</td>\n",
       "      <td>740.0</td>\n",
       "      <td>C</td>\n",
       "      <td>C</td>\n",
       "      <td>Completou a 4ª série/5º ano, mas não completou...</td>\n",
       "    </tr>\n",
       "  </tbody>\n",
       "</table>\n",
       "</div>"
      ],
      "text/plain": [
       "   NU_INSCRICAO  CO_MUNICIPIO_RESIDENCIA SG_UF_RESIDENCIA  NU_IDADE TP_SEXO  \\\n",
       "1  180007197856                  2111102               MA      23.0       F   \n",
       "5  180007239581                  2507507               PB      23.0       F   \n",
       "7  180008090447                  2207702               PI      39.0       M   \n",
       "8  180008257068                  2304400               CE      19.0       M   \n",
       "9  180008202044                  5103403               MT      25.0       F   \n",
       "\n",
       "   IN_GESTANTE  CO_UF_PROVA SG_UF_PROVA  NU_NOTA_CN  NU_NOTA_CH  NU_NOTA_LC  \\\n",
       "1            0           21          MA       521.0       568.7       513.1   \n",
       "5            0           25          PB       461.8       564.0       466.8   \n",
       "7            0           22          PI       499.3       663.2       605.2   \n",
       "8            0           23          CE       411.8       429.8       445.2   \n",
       "9            0           51          MT       469.4       650.2       606.6   \n",
       "\n",
       "   NU_NOTA_MT  NU_NOTA_REDACAO Q001 Q002  \\\n",
       "1       480.3            280.0    B    B   \n",
       "5       538.8            580.0    C    D   \n",
       "7       733.8            680.0    A    E   \n",
       "8       459.0            340.0    D    D   \n",
       "9       525.4            740.0    C    C   \n",
       "\n",
       "                                             NO_Q001  \n",
       "1  Não completou a 4ª série/5º ano do Ensino Fund...  \n",
       "5  Completou a 4ª série/5º ano, mas não completou...  \n",
       "7                                      Nunca estudou  \n",
       "8  Completou a 8ª série/9º ano do Ensino Fundamen...  \n",
       "9  Completou a 4ª série/5º ano, mas não completou...  "
      ]
     },
     "execution_count": 76,
     "metadata": {},
     "output_type": "execute_result"
    }
   ],
   "source": [
    "socEconSelecionado.head()"
   ]
  },
  {
   "cell_type": "markdown",
   "metadata": {},
   "source": [
    "Inserido coluna NO_Q002:"
   ]
  },
  {
   "cell_type": "code",
   "execution_count": 77,
   "metadata": {},
   "outputs": [
    {
     "data": {
      "text/html": [
       "<div>\n",
       "<style scoped>\n",
       "    .dataframe tbody tr th:only-of-type {\n",
       "        vertical-align: middle;\n",
       "    }\n",
       "\n",
       "    .dataframe tbody tr th {\n",
       "        vertical-align: top;\n",
       "    }\n",
       "\n",
       "    .dataframe thead th {\n",
       "        text-align: right;\n",
       "    }\n",
       "</style>\n",
       "<table border=\"1\" class=\"dataframe\">\n",
       "  <thead>\n",
       "    <tr style=\"text-align: right;\">\n",
       "      <th></th>\n",
       "      <th>NU_INSCRICAO</th>\n",
       "    </tr>\n",
       "    <tr>\n",
       "      <th>Q002</th>\n",
       "      <th></th>\n",
       "    </tr>\n",
       "  </thead>\n",
       "  <tbody>\n",
       "    <tr>\n",
       "      <th>A</th>\n",
       "      <td>136414</td>\n",
       "    </tr>\n",
       "    <tr>\n",
       "      <th>B</th>\n",
       "      <td>606697</td>\n",
       "    </tr>\n",
       "    <tr>\n",
       "      <th>C</th>\n",
       "      <td>515976</td>\n",
       "    </tr>\n",
       "    <tr>\n",
       "      <th>D</th>\n",
       "      <td>509533</td>\n",
       "    </tr>\n",
       "    <tr>\n",
       "      <th>E</th>\n",
       "      <td>1275050</td>\n",
       "    </tr>\n",
       "    <tr>\n",
       "      <th>F</th>\n",
       "      <td>417214</td>\n",
       "    </tr>\n",
       "    <tr>\n",
       "      <th>G</th>\n",
       "      <td>322686</td>\n",
       "    </tr>\n",
       "    <tr>\n",
       "      <th>H</th>\n",
       "      <td>110101</td>\n",
       "    </tr>\n",
       "  </tbody>\n",
       "</table>\n",
       "</div>"
      ],
      "text/plain": [
       "      NU_INSCRICAO\n",
       "Q002              \n",
       "A           136414\n",
       "B           606697\n",
       "C           515976\n",
       "D           509533\n",
       "E          1275050\n",
       "F           417214\n",
       "G           322686\n",
       "H           110101"
      ]
     },
     "execution_count": 77,
     "metadata": {},
     "output_type": "execute_result"
    }
   ],
   "source": [
    "socEconSelecionado.filter(items=['Q002','NU_INSCRICAO'])\\\n",
    "                                .groupby('Q002').count()"
   ]
  },
  {
   "cell_type": "code",
   "execution_count": 78,
   "metadata": {},
   "outputs": [],
   "source": [
    "socEconSelecionado['NO_Q002'] = [q001e002Dicionario[resp] for resp in socEconSelecionado.Q002]"
   ]
  },
  {
   "cell_type": "markdown",
   "metadata": {},
   "source": [
    "Olhando o head do DataFrame para verificar a inserção:"
   ]
  },
  {
   "cell_type": "code",
   "execution_count": 79,
   "metadata": {},
   "outputs": [
    {
     "data": {
      "text/html": [
       "<div>\n",
       "<style scoped>\n",
       "    .dataframe tbody tr th:only-of-type {\n",
       "        vertical-align: middle;\n",
       "    }\n",
       "\n",
       "    .dataframe tbody tr th {\n",
       "        vertical-align: top;\n",
       "    }\n",
       "\n",
       "    .dataframe thead th {\n",
       "        text-align: right;\n",
       "    }\n",
       "</style>\n",
       "<table border=\"1\" class=\"dataframe\">\n",
       "  <thead>\n",
       "    <tr style=\"text-align: right;\">\n",
       "      <th></th>\n",
       "      <th>NU_INSCRICAO</th>\n",
       "      <th>CO_MUNICIPIO_RESIDENCIA</th>\n",
       "      <th>SG_UF_RESIDENCIA</th>\n",
       "      <th>NU_IDADE</th>\n",
       "      <th>TP_SEXO</th>\n",
       "      <th>IN_GESTANTE</th>\n",
       "      <th>CO_UF_PROVA</th>\n",
       "      <th>SG_UF_PROVA</th>\n",
       "      <th>NU_NOTA_CN</th>\n",
       "      <th>NU_NOTA_CH</th>\n",
       "      <th>NU_NOTA_LC</th>\n",
       "      <th>NU_NOTA_MT</th>\n",
       "      <th>NU_NOTA_REDACAO</th>\n",
       "      <th>Q001</th>\n",
       "      <th>Q002</th>\n",
       "      <th>NO_Q001</th>\n",
       "      <th>NO_Q002</th>\n",
       "    </tr>\n",
       "  </thead>\n",
       "  <tbody>\n",
       "    <tr>\n",
       "      <th>1</th>\n",
       "      <td>180007197856</td>\n",
       "      <td>2111102</td>\n",
       "      <td>MA</td>\n",
       "      <td>23.0</td>\n",
       "      <td>F</td>\n",
       "      <td>0</td>\n",
       "      <td>21</td>\n",
       "      <td>MA</td>\n",
       "      <td>521.0</td>\n",
       "      <td>568.7</td>\n",
       "      <td>513.1</td>\n",
       "      <td>480.3</td>\n",
       "      <td>280.0</td>\n",
       "      <td>B</td>\n",
       "      <td>B</td>\n",
       "      <td>Não completou a 4ª série/5º ano do Ensino Fund...</td>\n",
       "      <td>Não completou a 4ª série/5º ano do Ensino Fund...</td>\n",
       "    </tr>\n",
       "    <tr>\n",
       "      <th>5</th>\n",
       "      <td>180007239581</td>\n",
       "      <td>2507507</td>\n",
       "      <td>PB</td>\n",
       "      <td>23.0</td>\n",
       "      <td>F</td>\n",
       "      <td>0</td>\n",
       "      <td>25</td>\n",
       "      <td>PB</td>\n",
       "      <td>461.8</td>\n",
       "      <td>564.0</td>\n",
       "      <td>466.8</td>\n",
       "      <td>538.8</td>\n",
       "      <td>580.0</td>\n",
       "      <td>C</td>\n",
       "      <td>D</td>\n",
       "      <td>Completou a 4ª série/5º ano, mas não completou...</td>\n",
       "      <td>Completou a 8ª série/9º ano do Ensino Fundamen...</td>\n",
       "    </tr>\n",
       "    <tr>\n",
       "      <th>7</th>\n",
       "      <td>180008090447</td>\n",
       "      <td>2207702</td>\n",
       "      <td>PI</td>\n",
       "      <td>39.0</td>\n",
       "      <td>M</td>\n",
       "      <td>0</td>\n",
       "      <td>22</td>\n",
       "      <td>PI</td>\n",
       "      <td>499.3</td>\n",
       "      <td>663.2</td>\n",
       "      <td>605.2</td>\n",
       "      <td>733.8</td>\n",
       "      <td>680.0</td>\n",
       "      <td>A</td>\n",
       "      <td>E</td>\n",
       "      <td>Nunca estudou</td>\n",
       "      <td>Completou o Ensino Médio, mas não completou a ...</td>\n",
       "    </tr>\n",
       "    <tr>\n",
       "      <th>8</th>\n",
       "      <td>180008257068</td>\n",
       "      <td>2304400</td>\n",
       "      <td>CE</td>\n",
       "      <td>19.0</td>\n",
       "      <td>M</td>\n",
       "      <td>0</td>\n",
       "      <td>23</td>\n",
       "      <td>CE</td>\n",
       "      <td>411.8</td>\n",
       "      <td>429.8</td>\n",
       "      <td>445.2</td>\n",
       "      <td>459.0</td>\n",
       "      <td>340.0</td>\n",
       "      <td>D</td>\n",
       "      <td>D</td>\n",
       "      <td>Completou a 8ª série/9º ano do Ensino Fundamen...</td>\n",
       "      <td>Completou a 8ª série/9º ano do Ensino Fundamen...</td>\n",
       "    </tr>\n",
       "    <tr>\n",
       "      <th>9</th>\n",
       "      <td>180008202044</td>\n",
       "      <td>5103403</td>\n",
       "      <td>MT</td>\n",
       "      <td>25.0</td>\n",
       "      <td>F</td>\n",
       "      <td>0</td>\n",
       "      <td>51</td>\n",
       "      <td>MT</td>\n",
       "      <td>469.4</td>\n",
       "      <td>650.2</td>\n",
       "      <td>606.6</td>\n",
       "      <td>525.4</td>\n",
       "      <td>740.0</td>\n",
       "      <td>C</td>\n",
       "      <td>C</td>\n",
       "      <td>Completou a 4ª série/5º ano, mas não completou...</td>\n",
       "      <td>Completou a 4ª série/5º ano, mas não completou...</td>\n",
       "    </tr>\n",
       "  </tbody>\n",
       "</table>\n",
       "</div>"
      ],
      "text/plain": [
       "   NU_INSCRICAO  CO_MUNICIPIO_RESIDENCIA SG_UF_RESIDENCIA  NU_IDADE TP_SEXO  \\\n",
       "1  180007197856                  2111102               MA      23.0       F   \n",
       "5  180007239581                  2507507               PB      23.0       F   \n",
       "7  180008090447                  2207702               PI      39.0       M   \n",
       "8  180008257068                  2304400               CE      19.0       M   \n",
       "9  180008202044                  5103403               MT      25.0       F   \n",
       "\n",
       "   IN_GESTANTE  CO_UF_PROVA SG_UF_PROVA  NU_NOTA_CN  NU_NOTA_CH  NU_NOTA_LC  \\\n",
       "1            0           21          MA       521.0       568.7       513.1   \n",
       "5            0           25          PB       461.8       564.0       466.8   \n",
       "7            0           22          PI       499.3       663.2       605.2   \n",
       "8            0           23          CE       411.8       429.8       445.2   \n",
       "9            0           51          MT       469.4       650.2       606.6   \n",
       "\n",
       "   NU_NOTA_MT  NU_NOTA_REDACAO Q001 Q002  \\\n",
       "1       480.3            280.0    B    B   \n",
       "5       538.8            580.0    C    D   \n",
       "7       733.8            680.0    A    E   \n",
       "8       459.0            340.0    D    D   \n",
       "9       525.4            740.0    C    C   \n",
       "\n",
       "                                             NO_Q001  \\\n",
       "1  Não completou a 4ª série/5º ano do Ensino Fund...   \n",
       "5  Completou a 4ª série/5º ano, mas não completou...   \n",
       "7                                      Nunca estudou   \n",
       "8  Completou a 8ª série/9º ano do Ensino Fundamen...   \n",
       "9  Completou a 4ª série/5º ano, mas não completou...   \n",
       "\n",
       "                                             NO_Q002  \n",
       "1  Não completou a 4ª série/5º ano do Ensino Fund...  \n",
       "5  Completou a 8ª série/9º ano do Ensino Fundamen...  \n",
       "7  Completou o Ensino Médio, mas não completou a ...  \n",
       "8  Completou a 8ª série/9º ano do Ensino Fundamen...  \n",
       "9  Completou a 4ª série/5º ano, mas não completou...  "
      ]
     },
     "execution_count": 79,
     "metadata": {},
     "output_type": "execute_result"
    }
   ],
   "source": [
    "socEconSelecionado.head()"
   ]
  },
  {
   "cell_type": "markdown",
   "metadata": {},
   "source": [
    "# Passo 3 - Comparando distribução do nível de escolaridade Pai x Mãe no conjunto de dados\n",
    "Utilizando os métodos do DataFrame filter(), groupby(), count(), sort_values()\n",
    "\n",
    "\n",
    "1 - distribuição dos candidatos do ENEM 2018 por escolaridade do Pai"
   ]
  },
  {
   "cell_type": "code",
   "execution_count": 80,
   "metadata": {},
   "outputs": [
    {
     "data": {
      "text/html": [
       "<div>\n",
       "<style scoped>\n",
       "    .dataframe tbody tr th:only-of-type {\n",
       "        vertical-align: middle;\n",
       "    }\n",
       "\n",
       "    .dataframe tbody tr th {\n",
       "        vertical-align: top;\n",
       "    }\n",
       "\n",
       "    .dataframe thead th {\n",
       "        text-align: right;\n",
       "    }\n",
       "</style>\n",
       "<table border=\"1\" class=\"dataframe\">\n",
       "  <thead>\n",
       "    <tr style=\"text-align: right;\">\n",
       "      <th></th>\n",
       "      <th>NU_INSCRICAO</th>\n",
       "    </tr>\n",
       "    <tr>\n",
       "      <th>NO_Q001</th>\n",
       "      <th></th>\n",
       "    </tr>\n",
       "  </thead>\n",
       "  <tbody>\n",
       "    <tr>\n",
       "      <th>Completou a 4ª série/5º ano, mas não completou a 8ª série/9º ano do Ensino Fundamental</th>\n",
       "      <td>549957</td>\n",
       "    </tr>\n",
       "    <tr>\n",
       "      <th>Completou a 8ª série/9º ano do Ensino Fundamental, mas não completou o Ensino Médio</th>\n",
       "      <td>460444</td>\n",
       "    </tr>\n",
       "    <tr>\n",
       "      <th>Completou a Faculdade, mas não completou a Pós-graduação</th>\n",
       "      <td>311907</td>\n",
       "    </tr>\n",
       "    <tr>\n",
       "      <th>Completou a Pós-graduação</th>\n",
       "      <td>187699</td>\n",
       "    </tr>\n",
       "    <tr>\n",
       "      <th>Completou o Ensino Médio, mas não completou a Faculdade</th>\n",
       "      <td>1043454</td>\n",
       "    </tr>\n",
       "    <tr>\n",
       "      <th>Nunca estudou</th>\n",
       "      <td>200900</td>\n",
       "    </tr>\n",
       "    <tr>\n",
       "      <th>Não completou a 4ª série/5º ano do Ensino Fundamental</th>\n",
       "      <td>813665</td>\n",
       "    </tr>\n",
       "    <tr>\n",
       "      <th>Não sei</th>\n",
       "      <td>325645</td>\n",
       "    </tr>\n",
       "  </tbody>\n",
       "</table>\n",
       "</div>"
      ],
      "text/plain": [
       "                                                    NU_INSCRICAO\n",
       "NO_Q001                                                         \n",
       "Completou a 4ª série/5º ano, mas não completou ...        549957\n",
       "Completou a 8ª série/9º ano do Ensino Fundament...        460444\n",
       "Completou a Faculdade, mas não completou a Pós-...        311907\n",
       "Completou a Pós-graduação                                 187699\n",
       "Completou o Ensino Médio, mas não completou a F...       1043454\n",
       "Nunca estudou                                             200900\n",
       "Não completou a 4ª série/5º ano do Ensino Funda...        813665\n",
       "Não sei                                                   325645"
      ]
     },
     "execution_count": 80,
     "metadata": {},
     "output_type": "execute_result"
    }
   ],
   "source": [
    "socEconSelecionado.filter(items=['NU_INSCRICAO','NO_Q001'])\\\n",
    "                                .groupby('NO_Q001').count()"
   ]
  },
  {
   "cell_type": "markdown",
   "metadata": {},
   "source": [
    "Distribuição dos candidatos do Enem 2018 por escolaridade da Mãe"
   ]
  },
  {
   "cell_type": "code",
   "execution_count": 81,
   "metadata": {},
   "outputs": [
    {
     "data": {
      "text/html": [
       "<div>\n",
       "<style scoped>\n",
       "    .dataframe tbody tr th:only-of-type {\n",
       "        vertical-align: middle;\n",
       "    }\n",
       "\n",
       "    .dataframe tbody tr th {\n",
       "        vertical-align: top;\n",
       "    }\n",
       "\n",
       "    .dataframe thead th {\n",
       "        text-align: right;\n",
       "    }\n",
       "</style>\n",
       "<table border=\"1\" class=\"dataframe\">\n",
       "  <thead>\n",
       "    <tr style=\"text-align: right;\">\n",
       "      <th></th>\n",
       "      <th>NU_INSCRICAO</th>\n",
       "    </tr>\n",
       "    <tr>\n",
       "      <th>NO_Q002</th>\n",
       "      <th></th>\n",
       "    </tr>\n",
       "  </thead>\n",
       "  <tbody>\n",
       "    <tr>\n",
       "      <th>Completou o Ensino Médio, mas não completou a Faculdade</th>\n",
       "      <td>1275050</td>\n",
       "    </tr>\n",
       "    <tr>\n",
       "      <th>Não completou a 4ª série/5º ano do Ensino Fundamental</th>\n",
       "      <td>606697</td>\n",
       "    </tr>\n",
       "    <tr>\n",
       "      <th>Completou a 4ª série/5º ano, mas não completou a 8ª série/9º ano do Ensino Fundamental</th>\n",
       "      <td>515976</td>\n",
       "    </tr>\n",
       "    <tr>\n",
       "      <th>Completou a 8ª série/9º ano do Ensino Fundamental, mas não completou o Ensino Médio</th>\n",
       "      <td>509533</td>\n",
       "    </tr>\n",
       "    <tr>\n",
       "      <th>Completou a Faculdade, mas não completou a Pós-graduação</th>\n",
       "      <td>417214</td>\n",
       "    </tr>\n",
       "    <tr>\n",
       "      <th>Completou a Pós-graduação</th>\n",
       "      <td>322686</td>\n",
       "    </tr>\n",
       "    <tr>\n",
       "      <th>Nunca estudou</th>\n",
       "      <td>136414</td>\n",
       "    </tr>\n",
       "    <tr>\n",
       "      <th>Não sei</th>\n",
       "      <td>110101</td>\n",
       "    </tr>\n",
       "  </tbody>\n",
       "</table>\n",
       "</div>"
      ],
      "text/plain": [
       "                                                    NU_INSCRICAO\n",
       "NO_Q002                                                         \n",
       "Completou o Ensino Médio, mas não completou a F...       1275050\n",
       "Não completou a 4ª série/5º ano do Ensino Funda...        606697\n",
       "Completou a 4ª série/5º ano, mas não completou ...        515976\n",
       "Completou a 8ª série/9º ano do Ensino Fundament...        509533\n",
       "Completou a Faculdade, mas não completou a Pós-...        417214\n",
       "Completou a Pós-graduação                                 322686\n",
       "Nunca estudou                                             136414\n",
       "Não sei                                                   110101"
      ]
     },
     "execution_count": 81,
     "metadata": {},
     "output_type": "execute_result"
    }
   ],
   "source": [
    "socEconSelecionado.filter(items=['NU_INSCRICAO','NO_Q002'])\\\n",
    "                     .groupby('NO_Q002')\\\n",
    "                     .count().sort_values(by='NU_INSCRICAO', ascending=False)"
   ]
  },
  {
   "cell_type": "markdown",
   "metadata": {},
   "source": [
    "# Passo 4 - Desempenho em matemática segundo a escolaridade Pai/Mâe"
   ]
  },
  {
   "cell_type": "markdown",
   "metadata": {},
   "source": [
    "Escolaridade do Pai"
   ]
  },
  {
   "cell_type": "code",
   "execution_count": 82,
   "metadata": {},
   "outputs": [
    {
     "data": {
      "text/html": [
       "<div>\n",
       "<style scoped>\n",
       "    .dataframe tbody tr th:only-of-type {\n",
       "        vertical-align: middle;\n",
       "    }\n",
       "\n",
       "    .dataframe tbody tr th {\n",
       "        vertical-align: top;\n",
       "    }\n",
       "\n",
       "    .dataframe thead th {\n",
       "        text-align: right;\n",
       "    }\n",
       "</style>\n",
       "<table border=\"1\" class=\"dataframe\">\n",
       "  <thead>\n",
       "    <tr style=\"text-align: right;\">\n",
       "      <th></th>\n",
       "      <th>NU_NOTA_MT</th>\n",
       "    </tr>\n",
       "    <tr>\n",
       "      <th>NO_Q001</th>\n",
       "      <th></th>\n",
       "    </tr>\n",
       "  </thead>\n",
       "  <tbody>\n",
       "    <tr>\n",
       "      <th>Completou a Pós-graduação</th>\n",
       "      <td>628.855790</td>\n",
       "    </tr>\n",
       "    <tr>\n",
       "      <th>Completou a Faculdade, mas não completou a Pós-graduação</th>\n",
       "      <td>606.909924</td>\n",
       "    </tr>\n",
       "    <tr>\n",
       "      <th>Completou o Ensino Médio, mas não completou a Faculdade</th>\n",
       "      <td>550.922365</td>\n",
       "    </tr>\n",
       "    <tr>\n",
       "      <th>Completou a 8ª série/9º ano do Ensino Fundamental, mas não completou o Ensino Médio</th>\n",
       "      <td>530.540936</td>\n",
       "    </tr>\n",
       "    <tr>\n",
       "      <th>Completou a 4ª série/5º ano, mas não completou a 8ª série/9º ano do Ensino Fundamental</th>\n",
       "      <td>519.451014</td>\n",
       "    </tr>\n",
       "    <tr>\n",
       "      <th>Não sei</th>\n",
       "      <td>512.677282</td>\n",
       "    </tr>\n",
       "    <tr>\n",
       "      <th>Não completou a 4ª série/5º ano do Ensino Fundamental</th>\n",
       "      <td>502.412736</td>\n",
       "    </tr>\n",
       "    <tr>\n",
       "      <th>Nunca estudou</th>\n",
       "      <td>483.411849</td>\n",
       "    </tr>\n",
       "  </tbody>\n",
       "</table>\n",
       "</div>"
      ],
      "text/plain": [
       "                                                    NU_NOTA_MT\n",
       "NO_Q001                                                       \n",
       "Completou a Pós-graduação                           628.855790\n",
       "Completou a Faculdade, mas não completou a Pós-...  606.909924\n",
       "Completou o Ensino Médio, mas não completou a F...  550.922365\n",
       "Completou a 8ª série/9º ano do Ensino Fundament...  530.540936\n",
       "Completou a 4ª série/5º ano, mas não completou ...  519.451014\n",
       "Não sei                                             512.677282\n",
       "Não completou a 4ª série/5º ano do Ensino Funda...  502.412736\n",
       "Nunca estudou                                       483.411849"
      ]
     },
     "execution_count": 82,
     "metadata": {},
     "output_type": "execute_result"
    }
   ],
   "source": [
    "socEconSelecionado.filter(items=['NU_NOTA_MT','NO_Q001'])\\\n",
    "                        .groupby('NO_Q001')\\\n",
    "                        .mean().sort_values(by='NU_NOTA_MT', ascending=False)"
   ]
  },
  {
   "cell_type": "code",
   "execution_count": 83,
   "metadata": {},
   "outputs": [
    {
     "data": {
      "text/plain": [
       "<matplotlib.axes._subplots.AxesSubplot at 0x201e3a39b48>"
      ]
     },
     "execution_count": 83,
     "metadata": {},
     "output_type": "execute_result"
    },
    {
     "data": {
      "image/png": "[encoded data removed]",
      "text/plain": [
       "<Figure size 432x288 with 1 Axes>"
      ]
     },
     "metadata": {
      "needs_background": "light"
     },
     "output_type": "display_data"
    }
   ],
   "source": [
    "socEconSelecionado.filter(items=['NU_NOTA_MT','NO_Q001'])\\\n",
    "                        .groupby('NO_Q001')\\\n",
    "                        .mean().sort_values(by='NU_NOTA_MT', ascending=False).plot()"
   ]
  },
  {
   "cell_type": "markdown",
   "metadata": {},
   "source": [
    "Ecolaridade da Mãe"
   ]
  },
  {
   "cell_type": "code",
   "execution_count": 84,
   "metadata": {
    "scrolled": true
   },
   "outputs": [
    {
     "data": {
      "text/plain": [
       "<matplotlib.axes._subplots.AxesSubplot at 0x201e3f8c0c8>"
      ]
     },
     "execution_count": 84,
     "metadata": {},
     "output_type": "execute_result"
    },
    {
     "data": {
      "image/png": "[encoded data removed]",
      "text/plain": [
       "<Figure size 432x288 with 1 Axes>"
      ]
     },
     "metadata": {
      "needs_background": "light"
     },
     "output_type": "display_data"
    }
   ],
   "source": [
    "socEconSelecionado.filter(items=['NU_NOTA_MT','NO_Q002'])\\\n",
    "                        .groupby('NO_Q002')\\\n",
    "                        .mean().sort_values(by='NU_NOTA_MT', ascending=False).plot()"
   ]
  },
  {
   "cell_type": "markdown",
   "metadata": {},
   "source": [
    "# Passo 5 - Olhando o desempenho em redação segundo a escolaridade Pai e Mãe\n",
    "\n",
    "1 - por Escolaridade do Pai"
   ]
  },
  {
   "cell_type": "code",
   "execution_count": 85,
   "metadata": {},
   "outputs": [
    {
     "data": {
      "text/html": [
       "<div>\n",
       "<style scoped>\n",
       "    .dataframe tbody tr th:only-of-type {\n",
       "        vertical-align: middle;\n",
       "    }\n",
       "\n",
       "    .dataframe tbody tr th {\n",
       "        vertical-align: top;\n",
       "    }\n",
       "\n",
       "    .dataframe thead th {\n",
       "        text-align: right;\n",
       "    }\n",
       "</style>\n",
       "<table border=\"1\" class=\"dataframe\">\n",
       "  <thead>\n",
       "    <tr style=\"text-align: right;\">\n",
       "      <th></th>\n",
       "      <th>NU_NOTA_REDACAO</th>\n",
       "    </tr>\n",
       "    <tr>\n",
       "      <th>NO_Q001</th>\n",
       "      <th></th>\n",
       "    </tr>\n",
       "  </thead>\n",
       "  <tbody>\n",
       "    <tr>\n",
       "      <th>Completou a Pós-graduação</th>\n",
       "      <td>652.211892</td>\n",
       "    </tr>\n",
       "    <tr>\n",
       "      <th>Completou a Faculdade, mas não completou a Pós-graduação</th>\n",
       "      <td>622.429122</td>\n",
       "    </tr>\n",
       "    <tr>\n",
       "      <th>Completou o Ensino Médio, mas não completou a Faculdade</th>\n",
       "      <td>544.272100</td>\n",
       "    </tr>\n",
       "    <tr>\n",
       "      <th>Completou a 8ª série/9º ano do Ensino Fundamental, mas não completou o Ensino Médio</th>\n",
       "      <td>511.712608</td>\n",
       "    </tr>\n",
       "    <tr>\n",
       "      <th>Completou a 4ª série/5º ano, mas não completou a 8ª série/9º ano do Ensino Fundamental</th>\n",
       "      <td>492.836676</td>\n",
       "    </tr>\n",
       "    <tr>\n",
       "      <th>Não sei</th>\n",
       "      <td>474.282117</td>\n",
       "    </tr>\n",
       "    <tr>\n",
       "      <th>Não completou a 4ª série/5º ano do Ensino Fundamental</th>\n",
       "      <td>464.490251</td>\n",
       "    </tr>\n",
       "    <tr>\n",
       "      <th>Nunca estudou</th>\n",
       "      <td>427.263614</td>\n",
       "    </tr>\n",
       "  </tbody>\n",
       "</table>\n",
       "</div>"
      ],
      "text/plain": [
       "                                                    NU_NOTA_REDACAO\n",
       "NO_Q001                                                            \n",
       "Completou a Pós-graduação                                652.211892\n",
       "Completou a Faculdade, mas não completou a Pós-...       622.429122\n",
       "Completou o Ensino Médio, mas não completou a F...       544.272100\n",
       "Completou a 8ª série/9º ano do Ensino Fundament...       511.712608\n",
       "Completou a 4ª série/5º ano, mas não completou ...       492.836676\n",
       "Não sei                                                  474.282117\n",
       "Não completou a 4ª série/5º ano do Ensino Funda...       464.490251\n",
       "Nunca estudou                                            427.263614"
      ]
     },
     "execution_count": 85,
     "metadata": {},
     "output_type": "execute_result"
    }
   ],
   "source": [
    "socEconSelecionado.filter(items=['NU_NOTA_REDACAO','NO_Q001'])\\\n",
    ".groupby('NO_Q001')\\\n",
    ".mean().sort_values(by='NU_NOTA_REDACAO', ascending=False)"
   ]
  },
  {
   "cell_type": "markdown",
   "metadata": {},
   "source": [
    "Olhando para essa informação em um gráfico:"
   ]
  },
  {
   "cell_type": "code",
   "execution_count": 86,
   "metadata": {},
   "outputs": [
    {
     "data": {
      "text/plain": [
       "<matplotlib.axes._subplots.AxesSubplot at 0x201e41306c8>"
      ]
     },
     "execution_count": 86,
     "metadata": {},
     "output_type": "execute_result"
    },
    {
     "data": {
      "image/png": "[encoded data removed]",
      "text/plain": [
       "<Figure size 432x288 with 1 Axes>"
      ]
     },
     "metadata": {
      "needs_background": "light"
     },
     "output_type": "display_data"
    }
   ],
   "source": [
    "socEconSelecionado.filter(items=['NU_NOTA_REDACAO','NO_Q001'])\\\n",
    "            .groupby('NO_Q001')\\\n",
    "            .mean().sort_values(by='NU_NOTA_REDACAO', ascending=False).plot()"
   ]
  },
  {
   "cell_type": "markdown",
   "metadata": {},
   "source": [
    "Por Escolaridade da Mãe"
   ]
  },
  {
   "cell_type": "code",
   "execution_count": 87,
   "metadata": {},
   "outputs": [
    {
     "data": {
      "text/html": [
       "<div>\n",
       "<style scoped>\n",
       "    .dataframe tbody tr th:only-of-type {\n",
       "        vertical-align: middle;\n",
       "    }\n",
       "\n",
       "    .dataframe tbody tr th {\n",
       "        vertical-align: top;\n",
       "    }\n",
       "\n",
       "    .dataframe thead th {\n",
       "        text-align: right;\n",
       "    }\n",
       "</style>\n",
       "<table border=\"1\" class=\"dataframe\">\n",
       "  <thead>\n",
       "    <tr style=\"text-align: right;\">\n",
       "      <th></th>\n",
       "      <th>NU_NOTA_REDACAO</th>\n",
       "    </tr>\n",
       "    <tr>\n",
       "      <th>NO_Q002</th>\n",
       "      <th></th>\n",
       "    </tr>\n",
       "  </thead>\n",
       "  <tbody>\n",
       "    <tr>\n",
       "      <th>Completou a Pós-graduação</th>\n",
       "      <td>622.781590</td>\n",
       "    </tr>\n",
       "    <tr>\n",
       "      <th>Completou a Faculdade, mas não completou a Pós-graduação</th>\n",
       "      <td>601.239076</td>\n",
       "    </tr>\n",
       "    <tr>\n",
       "      <th>Completou o Ensino Médio, mas não completou a Faculdade</th>\n",
       "      <td>530.016470</td>\n",
       "    </tr>\n",
       "    <tr>\n",
       "      <th>Completou a 8ª série/9º ano do Ensino Fundamental, mas não completou o Ensino Médio</th>\n",
       "      <td>495.963206</td>\n",
       "    </tr>\n",
       "    <tr>\n",
       "      <th>Completou a 4ª série/5º ano, mas não completou a 8ª série/9º ano do Ensino Fundamental</th>\n",
       "      <td>479.676070</td>\n",
       "    </tr>\n",
       "    <tr>\n",
       "      <th>Não completou a 4ª série/5º ano do Ensino Fundamental</th>\n",
       "      <td>454.592062</td>\n",
       "    </tr>\n",
       "    <tr>\n",
       "      <th>Não sei</th>\n",
       "      <td>447.200843</td>\n",
       "    </tr>\n",
       "    <tr>\n",
       "      <th>Nunca estudou</th>\n",
       "      <td>414.232410</td>\n",
       "    </tr>\n",
       "  </tbody>\n",
       "</table>\n",
       "</div>"
      ],
      "text/plain": [
       "                                                    NU_NOTA_REDACAO\n",
       "NO_Q002                                                            \n",
       "Completou a Pós-graduação                                622.781590\n",
       "Completou a Faculdade, mas não completou a Pós-...       601.239076\n",
       "Completou o Ensino Médio, mas não completou a F...       530.016470\n",
       "Completou a 8ª série/9º ano do Ensino Fundament...       495.963206\n",
       "Completou a 4ª série/5º ano, mas não completou ...       479.676070\n",
       "Não completou a 4ª série/5º ano do Ensino Funda...       454.592062\n",
       "Não sei                                                  447.200843\n",
       "Nunca estudou                                            414.232410"
      ]
     },
     "execution_count": 87,
     "metadata": {},
     "output_type": "execute_result"
    }
   ],
   "source": [
    "socEconSelecionado.filter(items=['NU_NOTA_REDACAO','NO_Q002'])\\\n",
    ".groupby('NO_Q002')\\\n",
    ".mean().sort_values(by='NU_NOTA_REDACAO', ascending=False)"
   ]
  },
  {
   "cell_type": "code",
   "execution_count": 88,
   "metadata": {},
   "outputs": [
    {
     "data": {
      "text/plain": [
       "<matplotlib.axes._subplots.AxesSubplot at 0x201e42ddec8>"
      ]
     },
     "execution_count": 88,
     "metadata": {},
     "output_type": "execute_result"
    },
    {
     "data": {
      "image/png": "[encoded data removed]",
      "text/plain": [
       "<Figure size 432x288 with 1 Axes>"
      ]
     },
     "metadata": {
      "needs_background": "light"
     },
     "output_type": "display_data"
    }
   ],
   "source": [
    "socEconSelecionado.filter(items=['NU_NOTA_REDACAO','NO_Q001'])\\\n",
    "            .groupby('NO_Q001')\\\n",
    "            .mean().sort_values(by='NU_NOTA_REDACAO', ascending=False).plot()"
   ]
  },
  {
   "cell_type": "code",
   "execution_count": 89,
   "metadata": {},
   "outputs": [],
   "source": [
    "q002Redacao = socEconSelecionado.filter(items=['NU_NOTA_REDACAO','NO_Q002'])\\\n",
    ".groupby('NO_Q002').mean().sort_values(by='NU_NOTA_REDACAO', ascending=False)"
   ]
  },
  {
   "cell_type": "code",
   "execution_count": 90,
   "metadata": {},
   "outputs": [
    {
     "data": {
      "text/html": [
       "<div>\n",
       "<style scoped>\n",
       "    .dataframe tbody tr th:only-of-type {\n",
       "        vertical-align: middle;\n",
       "    }\n",
       "\n",
       "    .dataframe tbody tr th {\n",
       "        vertical-align: top;\n",
       "    }\n",
       "\n",
       "    .dataframe thead th {\n",
       "        text-align: right;\n",
       "    }\n",
       "</style>\n",
       "<table border=\"1\" class=\"dataframe\">\n",
       "  <thead>\n",
       "    <tr style=\"text-align: right;\">\n",
       "      <th></th>\n",
       "      <th>NU_NOTA_REDACAO</th>\n",
       "    </tr>\n",
       "    <tr>\n",
       "      <th>NO_Q002</th>\n",
       "      <th></th>\n",
       "    </tr>\n",
       "  </thead>\n",
       "  <tbody>\n",
       "    <tr>\n",
       "      <th>Completou a Pós-graduação</th>\n",
       "      <td>622.781590</td>\n",
       "    </tr>\n",
       "    <tr>\n",
       "      <th>Completou a Faculdade, mas não completou a Pós-graduação</th>\n",
       "      <td>601.239076</td>\n",
       "    </tr>\n",
       "    <tr>\n",
       "      <th>Completou o Ensino Médio, mas não completou a Faculdade</th>\n",
       "      <td>530.016470</td>\n",
       "    </tr>\n",
       "    <tr>\n",
       "      <th>Completou a 8ª série/9º ano do Ensino Fundamental, mas não completou o Ensino Médio</th>\n",
       "      <td>495.963206</td>\n",
       "    </tr>\n",
       "    <tr>\n",
       "      <th>Completou a 4ª série/5º ano, mas não completou a 8ª série/9º ano do Ensino Fundamental</th>\n",
       "      <td>479.676070</td>\n",
       "    </tr>\n",
       "    <tr>\n",
       "      <th>Não completou a 4ª série/5º ano do Ensino Fundamental</th>\n",
       "      <td>454.592062</td>\n",
       "    </tr>\n",
       "    <tr>\n",
       "      <th>Não sei</th>\n",
       "      <td>447.200843</td>\n",
       "    </tr>\n",
       "    <tr>\n",
       "      <th>Nunca estudou</th>\n",
       "      <td>414.232410</td>\n",
       "    </tr>\n",
       "  </tbody>\n",
       "</table>\n",
       "</div>"
      ],
      "text/plain": [
       "                                                    NU_NOTA_REDACAO\n",
       "NO_Q002                                                            \n",
       "Completou a Pós-graduação                                622.781590\n",
       "Completou a Faculdade, mas não completou a Pós-...       601.239076\n",
       "Completou o Ensino Médio, mas não completou a F...       530.016470\n",
       "Completou a 8ª série/9º ano do Ensino Fundament...       495.963206\n",
       "Completou a 4ª série/5º ano, mas não completou ...       479.676070\n",
       "Não completou a 4ª série/5º ano do Ensino Funda...       454.592062\n",
       "Não sei                                                  447.200843\n",
       "Nunca estudou                                            414.232410"
      ]
     },
     "execution_count": 90,
     "metadata": {},
     "output_type": "execute_result"
    }
   ],
   "source": [
    "q002Redacao"
   ]
  },
  {
   "cell_type": "code",
   "execution_count": 91,
   "metadata": {},
   "outputs": [
    {
     "data": {
      "text/plain": [
       "<matplotlib.axes._subplots.AxesSubplot at 0x201e4aaf648>"
      ]
     },
     "execution_count": 91,
     "metadata": {},
     "output_type": "execute_result"
    },
    {
     "data": {
      "image/png": "[encoded data removed]",
      "text/plain": [
       "<Figure size 432x288 with 1 Axes>"
      ]
     },
     "metadata": {
      "needs_background": "light"
     },
     "output_type": "display_data"
    }
   ],
   "source": [
    "q002Redacao.plot()"
   ]
  },
  {
   "cell_type": "code",
   "execution_count": 92,
   "metadata": {},
   "outputs": [
    {
     "data": {
      "text/html": [
       "<div>\n",
       "<style scoped>\n",
       "    .dataframe tbody tr th:only-of-type {\n",
       "        vertical-align: middle;\n",
       "    }\n",
       "\n",
       "    .dataframe tbody tr th {\n",
       "        vertical-align: top;\n",
       "    }\n",
       "\n",
       "    .dataframe thead tr th {\n",
       "        text-align: left;\n",
       "    }\n",
       "\n",
       "    .dataframe thead tr:last-of-type th {\n",
       "        text-align: right;\n",
       "    }\n",
       "</style>\n",
       "<table border=\"1\" class=\"dataframe\">\n",
       "  <thead>\n",
       "    <tr>\n",
       "      <th></th>\n",
       "      <th colspan=\"8\" halign=\"left\">NU_NOTA_REDACAO</th>\n",
       "    </tr>\n",
       "    <tr>\n",
       "      <th></th>\n",
       "      <th>count</th>\n",
       "      <th>mean</th>\n",
       "      <th>std</th>\n",
       "      <th>min</th>\n",
       "      <th>25%</th>\n",
       "      <th>50%</th>\n",
       "      <th>75%</th>\n",
       "      <th>max</th>\n",
       "    </tr>\n",
       "    <tr>\n",
       "      <th>NO_Q001</th>\n",
       "      <th></th>\n",
       "      <th></th>\n",
       "      <th></th>\n",
       "      <th></th>\n",
       "      <th></th>\n",
       "      <th></th>\n",
       "      <th></th>\n",
       "      <th></th>\n",
       "    </tr>\n",
       "  </thead>\n",
       "  <tbody>\n",
       "    <tr>\n",
       "      <th>Completou a 4ª série/5º ano, mas não completou a 8ª série/9º ano do Ensino Fundamental</th>\n",
       "      <td>549957.0</td>\n",
       "      <td>492.836676</td>\n",
       "      <td>173.585828</td>\n",
       "      <td>0.0</td>\n",
       "      <td>360.0</td>\n",
       "      <td>500.0</td>\n",
       "      <td>600.0</td>\n",
       "      <td>1000.0</td>\n",
       "    </tr>\n",
       "    <tr>\n",
       "      <th>Completou a 8ª série/9º ano do Ensino Fundamental, mas não completou o Ensino Médio</th>\n",
       "      <td>460444.0</td>\n",
       "      <td>511.712608</td>\n",
       "      <td>176.643305</td>\n",
       "      <td>0.0</td>\n",
       "      <td>360.0</td>\n",
       "      <td>520.0</td>\n",
       "      <td>620.0</td>\n",
       "      <td>1000.0</td>\n",
       "    </tr>\n",
       "    <tr>\n",
       "      <th>Completou a Faculdade, mas não completou a Pós-graduação</th>\n",
       "      <td>311907.0</td>\n",
       "      <td>622.429122</td>\n",
       "      <td>183.709089</td>\n",
       "      <td>0.0</td>\n",
       "      <td>520.0</td>\n",
       "      <td>620.0</td>\n",
       "      <td>760.0</td>\n",
       "      <td>1000.0</td>\n",
       "    </tr>\n",
       "    <tr>\n",
       "      <th>Completou a Pós-graduação</th>\n",
       "      <td>187699.0</td>\n",
       "      <td>652.211892</td>\n",
       "      <td>183.977751</td>\n",
       "      <td>0.0</td>\n",
       "      <td>540.0</td>\n",
       "      <td>660.0</td>\n",
       "      <td>800.0</td>\n",
       "      <td>1000.0</td>\n",
       "    </tr>\n",
       "    <tr>\n",
       "      <th>Completou o Ensino Médio, mas não completou a Faculdade</th>\n",
       "      <td>1043454.0</td>\n",
       "      <td>544.272100</td>\n",
       "      <td>180.804612</td>\n",
       "      <td>0.0</td>\n",
       "      <td>400.0</td>\n",
       "      <td>560.0</td>\n",
       "      <td>660.0</td>\n",
       "      <td>1000.0</td>\n",
       "    </tr>\n",
       "    <tr>\n",
       "      <th>Nunca estudou</th>\n",
       "      <td>200900.0</td>\n",
       "      <td>427.263614</td>\n",
       "      <td>166.189247</td>\n",
       "      <td>0.0</td>\n",
       "      <td>320.0</td>\n",
       "      <td>400.0</td>\n",
       "      <td>540.0</td>\n",
       "      <td>1000.0</td>\n",
       "    </tr>\n",
       "    <tr>\n",
       "      <th>Não completou a 4ª série/5º ano do Ensino Fundamental</th>\n",
       "      <td>813665.0</td>\n",
       "      <td>464.490251</td>\n",
       "      <td>165.704736</td>\n",
       "      <td>0.0</td>\n",
       "      <td>340.0</td>\n",
       "      <td>460.0</td>\n",
       "      <td>580.0</td>\n",
       "      <td>1000.0</td>\n",
       "    </tr>\n",
       "    <tr>\n",
       "      <th>Não sei</th>\n",
       "      <td>325645.0</td>\n",
       "      <td>474.282117</td>\n",
       "      <td>175.884980</td>\n",
       "      <td>0.0</td>\n",
       "      <td>340.0</td>\n",
       "      <td>480.0</td>\n",
       "      <td>580.0</td>\n",
       "      <td>980.0</td>\n",
       "    </tr>\n",
       "  </tbody>\n",
       "</table>\n",
       "</div>"
      ],
      "text/plain": [
       "                                                   NU_NOTA_REDACAO  \\\n",
       "                                                             count   \n",
       "NO_Q001                                                              \n",
       "Completou a 4ª série/5º ano, mas não completou ...        549957.0   \n",
       "Completou a 8ª série/9º ano do Ensino Fundament...        460444.0   \n",
       "Completou a Faculdade, mas não completou a Pós-...        311907.0   \n",
       "Completou a Pós-graduação                                 187699.0   \n",
       "Completou o Ensino Médio, mas não completou a F...       1043454.0   \n",
       "Nunca estudou                                             200900.0   \n",
       "Não completou a 4ª série/5º ano do Ensino Funda...        813665.0   \n",
       "Não sei                                                   325645.0   \n",
       "\n",
       "                                                                            \\\n",
       "                                                          mean         std   \n",
       "NO_Q001                                                                      \n",
       "Completou a 4ª série/5º ano, mas não completou ...  492.836676  173.585828   \n",
       "Completou a 8ª série/9º ano do Ensino Fundament...  511.712608  176.643305   \n",
       "Completou a Faculdade, mas não completou a Pós-...  622.429122  183.709089   \n",
       "Completou a Pós-graduação                           652.211892  183.977751   \n",
       "Completou o Ensino Médio, mas não completou a F...  544.272100  180.804612   \n",
       "Nunca estudou                                       427.263614  166.189247   \n",
       "Não completou a 4ª série/5º ano do Ensino Funda...  464.490251  165.704736   \n",
       "Não sei                                             474.282117  175.884980   \n",
       "\n",
       "                                                                              \\\n",
       "                                                    min    25%    50%    75%   \n",
       "NO_Q001                                                                        \n",
       "Completou a 4ª série/5º ano, mas não completou ...  0.0  360.0  500.0  600.0   \n",
       "Completou a 8ª série/9º ano do Ensino Fundament...  0.0  360.0  520.0  620.0   \n",
       "Completou a Faculdade, mas não completou a Pós-...  0.0  520.0  620.0  760.0   \n",
       "Completou a Pós-graduação                           0.0  540.0  660.0  800.0   \n",
       "Completou o Ensino Médio, mas não completou a F...  0.0  400.0  560.0  660.0   \n",
       "Nunca estudou                                       0.0  320.0  400.0  540.0   \n",
       "Não completou a 4ª série/5º ano do Ensino Funda...  0.0  340.0  460.0  580.0   \n",
       "Não sei                                             0.0  340.0  480.0  580.0   \n",
       "\n",
       "                                                            \n",
       "                                                       max  \n",
       "NO_Q001                                                     \n",
       "Completou a 4ª série/5º ano, mas não completou ...  1000.0  \n",
       "Completou a 8ª série/9º ano do Ensino Fundament...  1000.0  \n",
       "Completou a Faculdade, mas não completou a Pós-...  1000.0  \n",
       "Completou a Pós-graduação                           1000.0  \n",
       "Completou o Ensino Médio, mas não completou a F...  1000.0  \n",
       "Nunca estudou                                       1000.0  \n",
       "Não completou a 4ª série/5º ano do Ensino Funda...  1000.0  \n",
       "Não sei                                              980.0  "
      ]
     },
     "execution_count": 92,
     "metadata": {},
     "output_type": "execute_result"
    }
   ],
   "source": [
    "socEconSelecionado.filter(items=['NU_NOTA_REDACAO','NO_Q001'])\\\n",
    "                        .groupby('NO_Q001').describe()"
   ]
  },
  {
   "cell_type": "markdown",
   "metadata": {},
   "source": [
    "# Principal resultado obtido\n",
    "\n",
    "A média das notas me matemática e nas notas da redação obedecem uma tendência de crescimento que acompanha o crescimento das escolaridade dos pais e das mães, ou seja, responsáveis mais escolarizados influenciam no aumento da nota dos alunos.\n",
    "\n",
    "# A tendência se repete se olharmos por Estado\n",
    "\n",
    "Selecionar colunas de interesse:"
   ]
  },
  {
   "cell_type": "code",
   "execution_count": 93,
   "metadata": {},
   "outputs": [],
   "source": [
    "colunasSelecionado = ['NU_INSCRICAO', 'SG_UF_RESIDENCIA',\n",
    "                       'NU_NOTA_MT','NU_NOTA_REDACAO', \n",
    "                       'Q001', 'Q002']"
   ]
  },
  {
   "cell_type": "code",
   "execution_count": 94,
   "metadata": {},
   "outputs": [],
   "source": [
    "socEconSelecionado['SG_UF_RESIDENCIA'] = socEconSelecionado.SG_UF_RESIDENCIA.dropna()"
   ]
  },
  {
   "cell_type": "code",
   "execution_count": 95,
   "metadata": {},
   "outputs": [
    {
     "data": {
      "text/html": [
       "<div>\n",
       "<style scoped>\n",
       "    .dataframe tbody tr th:only-of-type {\n",
       "        vertical-align: middle;\n",
       "    }\n",
       "\n",
       "    .dataframe tbody tr th {\n",
       "        vertical-align: top;\n",
       "    }\n",
       "\n",
       "    .dataframe thead th {\n",
       "        text-align: right;\n",
       "    }\n",
       "</style>\n",
       "<table border=\"1\" class=\"dataframe\">\n",
       "  <thead>\n",
       "    <tr style=\"text-align: right;\">\n",
       "      <th></th>\n",
       "      <th>NU_INSCRICAO</th>\n",
       "      <th>CO_MUNICIPIO_RESIDENCIA</th>\n",
       "      <th>SG_UF_RESIDENCIA</th>\n",
       "      <th>NU_IDADE</th>\n",
       "      <th>TP_SEXO</th>\n",
       "      <th>IN_GESTANTE</th>\n",
       "      <th>CO_UF_PROVA</th>\n",
       "      <th>SG_UF_PROVA</th>\n",
       "      <th>NU_NOTA_CN</th>\n",
       "      <th>NU_NOTA_CH</th>\n",
       "      <th>NU_NOTA_LC</th>\n",
       "      <th>NU_NOTA_MT</th>\n",
       "      <th>NU_NOTA_REDACAO</th>\n",
       "      <th>Q001</th>\n",
       "      <th>Q002</th>\n",
       "      <th>NO_Q001</th>\n",
       "      <th>NO_Q002</th>\n",
       "    </tr>\n",
       "  </thead>\n",
       "  <tbody>\n",
       "    <tr>\n",
       "      <th>1</th>\n",
       "      <td>180007197856</td>\n",
       "      <td>2111102</td>\n",
       "      <td>MA</td>\n",
       "      <td>23.0</td>\n",
       "      <td>F</td>\n",
       "      <td>0</td>\n",
       "      <td>21</td>\n",
       "      <td>MA</td>\n",
       "      <td>521.0</td>\n",
       "      <td>568.7</td>\n",
       "      <td>513.1</td>\n",
       "      <td>480.3</td>\n",
       "      <td>280.0</td>\n",
       "      <td>B</td>\n",
       "      <td>B</td>\n",
       "      <td>Não completou a 4ª série/5º ano do Ensino Fund...</td>\n",
       "      <td>Não completou a 4ª série/5º ano do Ensino Fund...</td>\n",
       "    </tr>\n",
       "    <tr>\n",
       "      <th>5</th>\n",
       "      <td>180007239581</td>\n",
       "      <td>2507507</td>\n",
       "      <td>PB</td>\n",
       "      <td>23.0</td>\n",
       "      <td>F</td>\n",
       "      <td>0</td>\n",
       "      <td>25</td>\n",
       "      <td>PB</td>\n",
       "      <td>461.8</td>\n",
       "      <td>564.0</td>\n",
       "      <td>466.8</td>\n",
       "      <td>538.8</td>\n",
       "      <td>580.0</td>\n",
       "      <td>C</td>\n",
       "      <td>D</td>\n",
       "      <td>Completou a 4ª série/5º ano, mas não completou...</td>\n",
       "      <td>Completou a 8ª série/9º ano do Ensino Fundamen...</td>\n",
       "    </tr>\n",
       "    <tr>\n",
       "      <th>7</th>\n",
       "      <td>180008090447</td>\n",
       "      <td>2207702</td>\n",
       "      <td>PI</td>\n",
       "      <td>39.0</td>\n",
       "      <td>M</td>\n",
       "      <td>0</td>\n",
       "      <td>22</td>\n",
       "      <td>PI</td>\n",
       "      <td>499.3</td>\n",
       "      <td>663.2</td>\n",
       "      <td>605.2</td>\n",
       "      <td>733.8</td>\n",
       "      <td>680.0</td>\n",
       "      <td>A</td>\n",
       "      <td>E</td>\n",
       "      <td>Nunca estudou</td>\n",
       "      <td>Completou o Ensino Médio, mas não completou a ...</td>\n",
       "    </tr>\n",
       "    <tr>\n",
       "      <th>8</th>\n",
       "      <td>180008257068</td>\n",
       "      <td>2304400</td>\n",
       "      <td>CE</td>\n",
       "      <td>19.0</td>\n",
       "      <td>M</td>\n",
       "      <td>0</td>\n",
       "      <td>23</td>\n",
       "      <td>CE</td>\n",
       "      <td>411.8</td>\n",
       "      <td>429.8</td>\n",
       "      <td>445.2</td>\n",
       "      <td>459.0</td>\n",
       "      <td>340.0</td>\n",
       "      <td>D</td>\n",
       "      <td>D</td>\n",
       "      <td>Completou a 8ª série/9º ano do Ensino Fundamen...</td>\n",
       "      <td>Completou a 8ª série/9º ano do Ensino Fundamen...</td>\n",
       "    </tr>\n",
       "    <tr>\n",
       "      <th>9</th>\n",
       "      <td>180008202044</td>\n",
       "      <td>5103403</td>\n",
       "      <td>MT</td>\n",
       "      <td>25.0</td>\n",
       "      <td>F</td>\n",
       "      <td>0</td>\n",
       "      <td>51</td>\n",
       "      <td>MT</td>\n",
       "      <td>469.4</td>\n",
       "      <td>650.2</td>\n",
       "      <td>606.6</td>\n",
       "      <td>525.4</td>\n",
       "      <td>740.0</td>\n",
       "      <td>C</td>\n",
       "      <td>C</td>\n",
       "      <td>Completou a 4ª série/5º ano, mas não completou...</td>\n",
       "      <td>Completou a 4ª série/5º ano, mas não completou...</td>\n",
       "    </tr>\n",
       "  </tbody>\n",
       "</table>\n",
       "</div>"
      ],
      "text/plain": [
       "   NU_INSCRICAO  CO_MUNICIPIO_RESIDENCIA SG_UF_RESIDENCIA  NU_IDADE TP_SEXO  \\\n",
       "1  180007197856                  2111102               MA      23.0       F   \n",
       "5  180007239581                  2507507               PB      23.0       F   \n",
       "7  180008090447                  2207702               PI      39.0       M   \n",
       "8  180008257068                  2304400               CE      19.0       M   \n",
       "9  180008202044                  5103403               MT      25.0       F   \n",
       "\n",
       "   IN_GESTANTE  CO_UF_PROVA SG_UF_PROVA  NU_NOTA_CN  NU_NOTA_CH  NU_NOTA_LC  \\\n",
       "1            0           21          MA       521.0       568.7       513.1   \n",
       "5            0           25          PB       461.8       564.0       466.8   \n",
       "7            0           22          PI       499.3       663.2       605.2   \n",
       "8            0           23          CE       411.8       429.8       445.2   \n",
       "9            0           51          MT       469.4       650.2       606.6   \n",
       "\n",
       "   NU_NOTA_MT  NU_NOTA_REDACAO Q001 Q002  \\\n",
       "1       480.3            280.0    B    B   \n",
       "5       538.8            580.0    C    D   \n",
       "7       733.8            680.0    A    E   \n",
       "8       459.0            340.0    D    D   \n",
       "9       525.4            740.0    C    C   \n",
       "\n",
       "                                             NO_Q001  \\\n",
       "1  Não completou a 4ª série/5º ano do Ensino Fund...   \n",
       "5  Completou a 4ª série/5º ano, mas não completou...   \n",
       "7                                      Nunca estudou   \n",
       "8  Completou a 8ª série/9º ano do Ensino Fundamen...   \n",
       "9  Completou a 4ª série/5º ano, mas não completou...   \n",
       "\n",
       "                                             NO_Q002  \n",
       "1  Não completou a 4ª série/5º ano do Ensino Fund...  \n",
       "5  Completou a 8ª série/9º ano do Ensino Fundamen...  \n",
       "7  Completou o Ensino Médio, mas não completou a ...  \n",
       "8  Completou a 8ª série/9º ano do Ensino Fundamen...  \n",
       "9  Completou a 4ª série/5º ano, mas não completou...  "
      ]
     },
     "execution_count": 95,
     "metadata": {},
     "output_type": "execute_result"
    }
   ],
   "source": [
    "socEconSelecionado.head()"
   ]
  },
  {
   "cell_type": "code",
   "execution_count": 96,
   "metadata": {},
   "outputs": [],
   "source": [
    "socEconSelecionado = ['NU_INSCRICAO',\n",
    "                      'NU_NOTA_MT', 'NU_NOTA_REDACAO'\n",
    "                      'Q001', 'Q002']"
   ]
  },
  {
   "cell_type": "code",
   "execution_count": 97,
   "metadata": {},
   "outputs": [
    {
     "ename": "TypeError",
     "evalue": "list indices must be integers or slices, not str",
     "output_type": "error",
     "traceback": [
      "\u001b[1;31m---------------------------------------------------------------------------\u001b[0m",
      "\u001b[1;31mTypeError\u001b[0m                                 Traceback (most recent call last)",
      "\u001b[1;32m<ipython-input-97-3d3da7706292>\u001b[0m in \u001b[0;36m<module>\u001b[1;34m\u001b[0m\n\u001b[1;32m----> 1\u001b[1;33m \u001b[0msocEconSelecionado\u001b[0m\u001b[1;33m[\u001b[0m\u001b[1;34m'SG_UF_RESIDENCIA'\u001b[0m\u001b[1;33m]\u001b[0m \u001b[1;33m=\u001b[0m \u001b[0msocEcon\u001b[0m\u001b[1;33m.\u001b[0m\u001b[0mSG_UF_RESIDENCIA\u001b[0m\u001b[1;33m\u001b[0m\u001b[1;33m\u001b[0m\u001b[0m\n\u001b[0m",
      "\u001b[1;31mTypeError\u001b[0m: list indices must be integers or slices, not str"
     ]
    }
   ],
   "source": [
    "socEconSelecionado['SG_UF_RESIDENCIA'] = socEcon.SG_UF_RESIDENCIA"
   ]
  },
  {
   "cell_type": "code",
   "execution_count": null,
   "metadata": {},
   "outputs": [],
   "source": [
    "socEconSelecionado.filter(items=['SG_UF_RESIDENCIA','NU_NOTA_REDACAO','NO_Q002'])\\\n",
    "                     .where(socEconSelecionado.NO_Q002 == 'Nunca Estudou',)\\\n",
    "                     .groupby(['SG_UF_RESIDENCIA','NO_Q002'])\\\n",
    "                     .mean().sort_values(by='NU_NOTA_REDACAO', ascending=True)"
   ]
  },
  {
   "cell_type": "code",
   "execution_count": null,
   "metadata": {},
   "outputs": [],
   "source": []
  },
  {
   "cell_type": "code",
   "execution_count": null,
   "metadata": {},
   "outputs": [],
   "source": []
  },
  {
   "cell_type": "code",
   "execution_count": null,
   "metadata": {},
   "outputs": [],
   "source": []
  },
  {
   "cell_type": "code",
   "execution_count": null,
   "metadata": {},
   "outputs": [],
   "source": []
  },
  {
   "cell_type": "code",
   "execution_count": null,
   "metadata": {},
   "outputs": [],
   "source": []
  },
  {
   "cell_type": "code",
   "execution_count": null,
   "metadata": {},
   "outputs": [],
   "source": []
  },
  {
   "cell_type": "code",
   "execution_count": null,
   "metadata": {},
   "outputs": [],
   "source": []
  },
  {
   "cell_type": "code",
   "execution_count": null,
   "metadata": {},
   "outputs": [],
   "source": []
  },
  {
   "cell_type": "code",
   "execution_count": null,
   "metadata": {},
   "outputs": [],
   "source": []
  },
  {
   "cell_type": "code",
   "execution_count": null,
   "metadata": {},
   "outputs": [],
   "source": []
  }
 ],
 "metadata": {
  "kernelspec": {
   "display_name": "Python 3",
   "language": "python",
   "name": "python3"
  },
  "language_info": {
   "codemirror_mode": {
    "name": "ipython",
    "version": 3
   },
   "file_extension": ".py",
   "mimetype": "text/x-python",
   "name": "python",
   "nbconvert_exporter": "python",
   "pygments_lexer": "ipython3",
   "version": "3.7.6"
  }
 },
 "nbformat": 4,
 "nbformat_minor": 4
}
